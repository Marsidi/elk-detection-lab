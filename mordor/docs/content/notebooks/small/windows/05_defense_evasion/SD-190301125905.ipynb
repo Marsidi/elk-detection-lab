{
 "cells": [
  {
   "cell_type": "markdown",
   "metadata": {},
   "source": [
    "# Empire DCSync ACL"
   ]
  },
  {
   "cell_type": "markdown",
   "metadata": {},
   "source": [
    "## Metadata"
   ]
  },
  {
   "cell_type": "markdown",
   "metadata": {},
   "source": [
    "\n",
    "|                   |    |\n",
    "|:------------------|:---|\n",
    "| id                | SD-190301125905 |\n",
    "| author            | Roberto Rodriguez @Cyb3rWard0g |\n",
    "| creation date     | 2019/03/01 |\n",
    "| platform          | Windows |\n",
    "| Mordor Environment| shire |\n",
    "| Simulation Type   | C2 |\n",
    "| Simulation Tool   | Empire |\n",
    "| Simulation Script | https://github.com/EmpireProject/Empire/blob/master/data/module_source/situational_awareness/network/powerview.ps1 |\n",
    "| Mordor Dataset    | https://raw.githubusercontent.com/hunters-forge/mordor/master/datasets/small/windows/defense_evasion/empire_dcsync_acl.tar.gz |"
   ]
  },
  {
   "cell_type": "markdown",
   "metadata": {},
   "source": [
    "## Dataset Description\n",
    "This dataset represents adversaries with enough permissions (domain admin) adding an ACL to the Root Domain for any user, despite being in no privileged groups, having no malicious sidHistory, and not having local admin rights on the domain controller itself."
   ]
  },
  {
   "cell_type": "markdown",
   "metadata": {},
   "source": [
    "## Adversary View\n",
    "```\n",
    "scriptimport data/module_source/situational_awareness/network/powerview.ps1\n",
    "scriptcmd Add-DomainObjectAcl -TargetIdentity \"dc=shire,dc=com\" -TargetDomain shire.com -PrincipalIdentity nmartha -Rights DCSync\n",
    "\n",
    "You can verify that it worked by running the following commands:\n",
    "\n",
    "scriptcmd $nmarthaSid = Get-DomainUser nmartha | Select-Object -ExpandProperty objectsid; Get-DomainObjectACL  \"dc=shire,dc=com\" -Domain shire.com -ResolveGUIDs | Where-Object {$_.securityidentifier -eq $nmarthaSid}\n",
    "\n",
    "AceQualifier           : AccessAllowed\n",
    "ObjectDN               : DC=shire,DC=com\n",
    "ActiveDirectoryRights  : ExtendedRight\n",
    "ObjectAceType          : DS-Replication-Get-Changes-In-Filtered-Set\n",
    "ObjectSID              : S-1-5-21-2511471446-1103646877-3980648787\n",
    "InheritanceFlags       : None\n",
    "BinaryLength           : 56\n",
    "AceType                : AccessAllowedObject\n",
    "ObjectAceFlags         : ObjectAceTypePresent\n",
    "IsCallback             : False\n",
    "PropagationFlags       : None\n",
    "SecurityIdentifier     : S-1-5-21-2511471446-1103646877-3980648787-1106\n",
    "AccessMask             : 256\n",
    "AuditFlags             : None\n",
    "IsInherited            : False\n",
    "AceFlags               : None\n",
    "InheritedObjectAceType : All\n",
    "OpaqueLength           : 0\n",
    "\n",
    "AceQualifier           : AccessAllowed\n",
    "ObjectDN               : DC=shire,DC=com\n",
    "ActiveDirectoryRights  : ExtendedRight\n",
    "ObjectAceType          : DS-Replication-Get-Changes\n",
    "ObjectSID              : S-1-5-21-2511471446-1103646877-3980648787\n",
    "InheritanceFlags       : None\n",
    "BinaryLength           : 56\n",
    "AceType                : AccessAllowedObject\n",
    "ObjectAceFlags         : ObjectAceTypePresent\n",
    "IsCallback             : False\n",
    "PropagationFlags       : None\n",
    "SecurityIdentifier     : S-1-5-21-2511471446-1103646877-3980648787-1106\n",
    "AccessMask             : 256\n",
    "AuditFlags             : None\n",
    "IsInherited            : False\n",
    "AceFlags               : None\n",
    "InheritedObjectAceType : All\n",
    "OpaqueLength           : 0\n",
    "\n",
    "AceQualifier           : AccessAllowed\n",
    "ObjectDN               : DC=shire,DC=com\n",
    "ActiveDirectoryRights  : ExtendedRight\n",
    "ObjectAceType          : DS-Replication-Get-Changes-All\n",
    "ObjectSID              : S-1-5-21-2511471446-1103646877-3980648787\n",
    "InheritanceFlags       : None\n",
    "BinaryLength           : 56\n",
    "AceType                : AccessAllowedObject\n",
    "ObjectAceFlags         : ObjectAceTypePresent\n",
    "IsCallback             : False\n",
    "PropagationFlags       : None\n",
    "SecurityIdentifier     : S-1-5-21-2511471446-1103646877-3980648787-1106\n",
    "AccessMask             : 256\n",
    "AuditFlags             : None\n",
    "IsInherited            : False\n",
    "AceFlags               : None\n",
    "InheritedObjectAceType : All\n",
    "OpaqueLength           : 0\n",
    "```"
   ]
  },
  {
   "cell_type": "markdown",
   "metadata": {},
   "source": [
    "## Explore Mordor Dataset"
   ]
  },
  {
   "cell_type": "markdown",
   "metadata": {},
   "source": [
    "### Initialize Analytics Engine"
   ]
  },
  {
   "cell_type": "code",
   "execution_count": null,
   "metadata": {},
   "outputs": [],
   "source": [
    "from openhunt.mordorutils import *\n",
    "spark = get_spark()"
   ]
  },
  {
   "cell_type": "markdown",
   "metadata": {},
   "source": [
    "### Download & Process Mordor File"
   ]
  },
  {
   "cell_type": "code",
   "execution_count": null,
   "metadata": {},
   "outputs": [],
   "source": [
    "mordor_file = \"https://raw.githubusercontent.com/hunters-forge/mordor/master/datasets/small/windows/defense_evasion/empire_dcsync_acl.tar.gz\"\n",
    "registerMordorSQLTable(spark, mordor_file, \"mordorTable\")"
   ]
  },
  {
   "cell_type": "markdown",
   "metadata": {},
   "source": [
    "### Get to know your data"
   ]
  },
  {
   "cell_type": "code",
   "execution_count": null,
   "metadata": {},
   "outputs": [],
   "source": [
    "df = spark.sql(\n",
    "    '''\n",
    "SELECT channel, COUNT(1)\n",
    "FROM mordorTable\n",
    "GROUP BY channel\n",
    "    '''\n",
    ")\n",
    "df.show(10,False)\n",
    "        "
   ]
  }
 ],
 "metadata": {},
 "nbformat": 4,
 "nbformat_minor": 4
}
