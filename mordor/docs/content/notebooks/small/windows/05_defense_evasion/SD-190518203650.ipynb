{
 "cells": [
  {
   "cell_type": "markdown",
   "metadata": {},
   "source": [
    "# Empire Enabling RDP"
   ]
  },
  {
   "cell_type": "markdown",
   "metadata": {},
   "source": [
    "## Metadata"
   ]
  },
  {
   "cell_type": "markdown",
   "metadata": {},
   "source": [
    "\n",
    "|                   |    |\n",
    "|:------------------|:---|\n",
    "| id                | SD-190518203650 |\n",
    "| author            | Roberto Rodriguez @Cyb3rWard0g |\n",
    "| creation date     | 2019/05/18 |\n",
    "| platform          | Windows |\n",
    "| Mordor Environment| shire |\n",
    "| Simulation Type   | C2 |\n",
    "| Simulation Tool   | Empire |\n",
    "| Simulation Script | https://github.com/EmpireProject/Empire/blob/master/lib/modules/powershell/management/enable_rdp.py |\n",
    "| Mordor Dataset    | https://raw.githubusercontent.com/hunters-forge/mordor/master/datasets/small/windows/defense_evasion/empire_enable_rdp.tar.gz |"
   ]
  },
  {
   "cell_type": "markdown",
   "metadata": {},
   "source": [
    "## Dataset Description\n",
    "This dataset represents adversaries enabling RDP and adding a firewall exception to a compromised system"
   ]
  },
  {
   "cell_type": "markdown",
   "metadata": {},
   "source": [
    "## Adversary View\n",
    "```\n",
    "(Empire: TKV35P8X) > usemodule management/enable_rdp*           \n",
    "(Empire: powershell/management/enable_rdp) > info\n",
    "\n",
    "              Name: Enable-RDP\n",
    "            Module: powershell/management/enable_rdp\n",
    "        NeedsAdmin: True\n",
    "        OpsecSafe: False\n",
    "          Language: powershell\n",
    "MinLanguageVersion: 2\n",
    "        Background: False\n",
    "  OutputExtension: None\n",
    "\n",
    "Authors:\n",
    "  @harmj0y\n",
    "\n",
    "Description:\n",
    "  Enables RDP on the remote machine and adds a firewall\n",
    "  exception.\n",
    "\n",
    "Options:\n",
    "\n",
    "  Name  Required    Value                     Description\n",
    "  ----  --------    -------                   -----------\n",
    "  Agent True        TKV35P8X                  Agent to run module on.                 \n",
    "\n",
    "(Empire: powershell/management/enable_rdp) > execute\n",
    "[>] Module is not opsec safe, run? [y/N] y\n",
    "[*] Tasked TKV35P8X to run TASK_CMD_WAIT\n",
    "[*] Agent TKV35P8X tasked with task ID 21\n",
    "[*] Tasked agent TKV35P8X to run module powershell/management/enable_rdp\n",
    "(Empire: powershell/management/enable_rdp) > The operation completed successfully.\n",
    "\n",
    "\n",
    "(Empire: powershell/management/enable_rdp) > \n",
    "```"
   ]
  },
  {
   "cell_type": "markdown",
   "metadata": {},
   "source": [
    "## Explore Mordor Dataset"
   ]
  },
  {
   "cell_type": "markdown",
   "metadata": {},
   "source": [
    "### Initialize Analytics Engine"
   ]
  },
  {
   "cell_type": "code",
   "execution_count": null,
   "metadata": {},
   "outputs": [],
   "source": [
    "from openhunt.mordorutils import *\n",
    "spark = get_spark()"
   ]
  },
  {
   "cell_type": "markdown",
   "metadata": {},
   "source": [
    "### Download & Process Mordor File"
   ]
  },
  {
   "cell_type": "code",
   "execution_count": null,
   "metadata": {},
   "outputs": [],
   "source": [
    "mordor_file = \"https://raw.githubusercontent.com/hunters-forge/mordor/master/datasets/small/windows/defense_evasion/empire_enable_rdp.tar.gz\"\n",
    "registerMordorSQLTable(spark, mordor_file, \"mordorTable\")"
   ]
  },
  {
   "cell_type": "markdown",
   "metadata": {},
   "source": [
    "### Get to know your data"
   ]
  },
  {
   "cell_type": "code",
   "execution_count": null,
   "metadata": {},
   "outputs": [],
   "source": [
    "df = spark.sql(\n",
    "    '''\n",
    "SELECT channel, COUNT(1)\n",
    "FROM mordorTable\n",
    "GROUP BY channel\n",
    "    '''\n",
    ")\n",
    "df.show(10,False)\n",
    "        "
   ]
  }
 ],
 "metadata": {},
 "nbformat": 4,
 "nbformat_minor": 4
}
