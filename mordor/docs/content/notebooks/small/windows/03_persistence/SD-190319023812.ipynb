{
 "cells": [
  {
   "cell_type": "markdown",
   "metadata": {},
   "source": [
    "# Empire Userland Registry"
   ]
  },
  {
   "cell_type": "markdown",
   "metadata": {},
   "source": [
    "## Metadata"
   ]
  },
  {
   "cell_type": "markdown",
   "metadata": {},
   "source": [
    "\n",
    "|                   |    |\n",
    "|:------------------|:---|\n",
    "| id                | SD-190319023812 |\n",
    "| author            | Roberto Rodriguez @Cyb3rWard0g |\n",
    "| creation date     | 19/03/19 |\n",
    "| platform          | Windows |\n",
    "| Mordor Environment| shire |\n",
    "| Simulation Type   | C2 |\n",
    "| Simulation Tool   | Empire |\n",
    "| Simulation Script | https://github.com/EmpireProject/Empire/blob/dev/data/module_source/persistence/Persistence.psm1 |\n",
    "| Mordor Dataset    | https://raw.githubusercontent.com/hunters-forge/mordor/master/datasets/small/windows/persistence/empire_userland_registry.tar.gz |"
   ]
  },
  {
   "cell_type": "markdown",
   "metadata": {},
   "source": [
    "## Dataset Description\n",
    "This dataset represents adversaries modifying HKLM:SOFTWARE\\Microsoft\\Windows\\CurrentVersion\\Run registry keys for persistence."
   ]
  },
  {
   "cell_type": "markdown",
   "metadata": {},
   "source": [
    "## Adversary View\n",
    "```\n",
    "usemodule persistence/userland/registry\n",
    "(Empire: powershell/persistence/userland/registry) > info\n",
    "\n",
    "              Name: Invoke-Registry\n",
    "            Module: powershell/persistence/userland/registry\n",
    "        NeedsAdmin: False\n",
    "        OpsecSafe: False\n",
    "          Language: powershell\n",
    "MinLanguageVersion: 2\n",
    "        Background: False\n",
    "  OutputExtension: None\n",
    "\n",
    "Authors:\n",
    "  @mattifestation\n",
    "  @harmj0y\n",
    "  @enigma0x3\n",
    "\n",
    "Description:\n",
    "  Persist a stager (or script) via the\n",
    "  HKCU:SOFTWARE\\Microsoft\\Windows\\CurrentVersion\\Run registry\n",
    "  key. This has an easy detection/removal rating.\n",
    "\n",
    "Comments:\n",
    "  https://github.com/mattifestation/PowerSploit/blob/master/Pe\n",
    "  rsistence/Persistence.psm1\n",
    "\n",
    "Options:\n",
    "\n",
    "  Name       Required    Value                     Description\n",
    "  ----       --------    -------                   -----------\n",
    "  ProxyCreds False       default                   Proxy credentials                       \n",
    "                                                  ([domain\\]username:password) to use for \n",
    "                                                  request (default, none, or other).      \n",
    "  EventLogID False                                 Store the script in the Application     \n",
    "                                                  event log under the specified EventID.  \n",
    "                                                  The ID needs to be unique/rare!         \n",
    "  ExtFile    False                                 Use an external file for the payload    \n",
    "                                                  instead of a stager.                    \n",
    "  Cleanup    False                                 Switch. Cleanup the trigger and any     \n",
    "                                                  script from specified location.         \n",
    "  ADSPath    False                                 Alternate-data-stream location to store \n",
    "                                                  the script code.                        \n",
    "  Agent      True        FD6A3MGY                  Agent to run module on.                 \n",
    "  Listener   True                                  Listener to use.                        \n",
    "  KeyName    True        Updater                   Key name for the run trigger.           \n",
    "  RegPath    False       HKCU:Software\\Microsoft\\  Registry location to store the script   \n",
    "                        Windows\\CurrentVersion\\D  code. Last element is the key name.     \n",
    "                        ebug                    \n",
    "  Proxy      False       default                   Proxy to use for request (default, none,\n",
    "                                                  or other).                              \n",
    "  UserAgent  False       default                   User-agent string to use for the staging\n",
    "                                                  request (default, none, or other).      \n",
    "\n",
    "(Empire: powershell/persistence/userland/registry) > set Listener https\n",
    "(Empire: powershell/persistence/userland/registry) > info\n",
    "\n",
    "              Name: Invoke-Registry\n",
    "            Module: powershell/persistence/userland/registry\n",
    "        NeedsAdmin: False\n",
    "        OpsecSafe: False\n",
    "          Language: powershell\n",
    "MinLanguageVersion: 2\n",
    "        Background: False\n",
    "  OutputExtension: None\n",
    "\n",
    "Authors:\n",
    "  @mattifestation\n",
    "  @harmj0y\n",
    "  @enigma0x3\n",
    "\n",
    "Description:\n",
    "  Persist a stager (or script) via the\n",
    "  HKCU:SOFTWARE\\Microsoft\\Windows\\CurrentVersion\\Run registry\n",
    "  key. This has an easy detection/removal rating.\n",
    "\n",
    "Comments:\n",
    "  https://github.com/mattifestation/PowerSploit/blob/master/Pe\n",
    "  rsistence/Persistence.psm1\n",
    "\n",
    "Options:\n",
    "\n",
    "  Name       Required    Value                     Description\n",
    "  ----       --------    -------                   -----------\n",
    "  ProxyCreds False       default                   Proxy credentials                       \n",
    "                                                  ([domain\\]username:password) to use for \n",
    "                                                  request (default, none, or other).      \n",
    "  EventLogID False                                 Store the script in the Application     \n",
    "                                                  event log under the specified EventID.  \n",
    "                                                  The ID needs to be unique/rare!         \n",
    "  ExtFile    False                                 Use an external file for the payload    \n",
    "                                                  instead of a stager.                    \n",
    "  Cleanup    False                                 Switch. Cleanup the trigger and any     \n",
    "                                                  script from specified location.         \n",
    "  ADSPath    False                                 Alternate-data-stream location to store \n",
    "                                                  the script code.                        \n",
    "  Agent      True        FD6A3MGY                  Agent to run module on.                 \n",
    "  Listener   True        https                     Listener to use.                        \n",
    "  KeyName    True        Updater                   Key name for the run trigger.           \n",
    "  RegPath    False       HKCU:Software\\Microsoft\\  Registry location to store the script   \n",
    "                        Windows\\CurrentVersion\\D  code. Last element is the key name.     \n",
    "                        ebug                    \n",
    "  Proxy      False       default                   Proxy to use for request (default, none,\n",
    "                                                  or other).                              \n",
    "  UserAgent  False       default                   User-agent string to use for the staging\n",
    "                                                  request (default, none, or other).      \n",
    "\n",
    "(Empire: powershell/persistence/userland/registry) > execute\n",
    "[>] Module is not opsec safe, run? [y/N] y\n",
    "[*] Tasked FD6A3MGY to run TASK_CMD_WAIT\n",
    "[*] Agent FD6A3MGY tasked with task ID 9\n",
    "[*] Tasked agent FD6A3MGY to run module powershell/persistence/userland/registry\n",
    "(Empire: powershell/persistence/userland/registry) > Registry persistence established using listener https stored in HKCU:Software\\Microsoft\\Windows\\CurrentVersion\\Debug.\n",
    "\n",
    "(Empire: powershell/persistence/userland/registry) >\n",
    "```"
   ]
  },
  {
   "cell_type": "markdown",
   "metadata": {},
   "source": [
    "## Explore Mordor Dataset"
   ]
  },
  {
   "cell_type": "markdown",
   "metadata": {},
   "source": [
    "### Initialize Analytics Engine"
   ]
  },
  {
   "cell_type": "code",
   "execution_count": null,
   "metadata": {},
   "outputs": [],
   "source": [
    "from openhunt.mordorutils import *\n",
    "spark = get_spark()"
   ]
  },
  {
   "cell_type": "markdown",
   "metadata": {},
   "source": [
    "### Download & Process Mordor File"
   ]
  },
  {
   "cell_type": "code",
   "execution_count": null,
   "metadata": {},
   "outputs": [],
   "source": [
    "mordor_file = \"https://raw.githubusercontent.com/hunters-forge/mordor/master/datasets/small/windows/persistence/empire_userland_registry.tar.gz\"\n",
    "registerMordorSQLTable(spark, mordor_file, \"mordorTable\")"
   ]
  },
  {
   "cell_type": "markdown",
   "metadata": {},
   "source": [
    "### Get to know your data"
   ]
  },
  {
   "cell_type": "code",
   "execution_count": null,
   "metadata": {},
   "outputs": [],
   "source": [
    "df = spark.sql(\n",
    "    '''\n",
    "SELECT channel, COUNT(1)\n",
    "FROM mordorTable\n",
    "GROUP BY channel\n",
    "    '''\n",
    ")\n",
    "df.show(10,False)\n",
    "        "
   ]
  }
 ],
 "metadata": {},
 "nbformat": 4,
 "nbformat_minor": 4
}
