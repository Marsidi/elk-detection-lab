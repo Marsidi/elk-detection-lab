{
 "cells": [
  {
   "cell_type": "markdown",
   "metadata": {},
   "source": [
    "# Empire Find Local Admin Access"
   ]
  },
  {
   "cell_type": "markdown",
   "metadata": {},
   "source": [
    "## Metadata"
   ]
  },
  {
   "cell_type": "markdown",
   "metadata": {},
   "source": [
    "\n",
    "|                   |    |\n",
    "|:------------------|:---|\n",
    "| id                | SD-190518224039 |\n",
    "| author            | Roberto Rodriguez @Cyb3rWard0g |\n",
    "| creation date     | 2019/05/18 |\n",
    "| platform          | Windows |\n",
    "| Mordor Environment| shire |\n",
    "| Simulation Type   | C2 |\n",
    "| Simulation Tool   | Empire |\n",
    "| Simulation Script | https://github.com/EmpireProject/Empire/blob/master/lib/modules/powershell/situational_awareness/network/powerview/find_localadmin_access.py |\n",
    "| Mordor Dataset    | https://raw.githubusercontent.com/hunters-forge/mordor/master/datasets/small/windows/discovery/empire_find_local_admin.tar.gz |"
   ]
  },
  {
   "cell_type": "markdown",
   "metadata": {},
   "source": [
    "## Dataset Description\n",
    "This dataset represents adversaries using the OpenSCManagerW Win32API call to establish a handle to the remote host and verify if the current user context has local administrator acess to the target."
   ]
  },
  {
   "cell_type": "markdown",
   "metadata": {},
   "source": [
    "## Adversary View\n",
    "```\n",
    "(Empire: V6W3TH8Y) > usemodule situational_awareness/network/powerview/find_localadmin_access\n",
    "(Empire: powershell/situational_awareness/network/powerview/find_localadmin_access) > info\n",
    "\n",
    "              Name: Find-LocalAdminAccess\n",
    "            Module: powershell/situational_awareness/network/powerview/find_localadmin_access\n",
    "        NeedsAdmin: False\n",
    "        OpsecSafe: True\n",
    "          Language: powershell\n",
    "MinLanguageVersion: 2\n",
    "        Background: True\n",
    "  OutputExtension: None\n",
    "\n",
    "Authors:\n",
    "  @harmj0y\n",
    "\n",
    "Description:\n",
    "  Finds machines on the local domain where the current user\n",
    "  has local administrator access. Part of PowerView.\n",
    "\n",
    "Comments:\n",
    "  https://github.com/PowerShellMafia/PowerSploit/blob/dev/Reco\n",
    "  n/\n",
    "\n",
    "Options:\n",
    "\n",
    "  Name                    Required    Value                     Description\n",
    "  ----                    --------    -------                   -----------\n",
    "  ComputerName            False                                 Hosts to enumerate, comma separated.    \n",
    "  SearchScope             False                                 Specifies the scope to search under,    \n",
    "                                                                Base/OneLevel/Subtree (default of       \n",
    "                                                                Subtree)                                \n",
    "  ComputerSiteName        False                                 Search computers in the specific AD site\n",
    "                                                                name, wildcards accepted.               \n",
    "  Server                  False                                 Specifies an active directory server    \n",
    "                                                                (domain controller) to bind to          \n",
    "  Tombstone               False                                 Switch. Specifies that the search should\n",
    "                                                                also return deleted/tombstoned objects. \n",
    "  ComputerOperatingSystem False                                 Searches computers with a specific      \n",
    "                                                                operating system. Wildcards accepted.   \n",
    "  ResultPageSize          False                                 Specifies the PageSize to set for the   \n",
    "                                                                LDAP searcher object.                   \n",
    "  ComputerDomain          False                                 Specifies the domain to query for       \n",
    "                                                                computers, defaults to the current      \n",
    "                                                                domain.                                 \n",
    "  ComputerSearchBase      False                                 Specifies the LDAP source to search     \n",
    "                                                                through for computers                   \n",
    "  ServerTimeLimit         False                                 Specifies the maximum amount of time the\n",
    "                                                                server spends searching. Default of 120 \n",
    "                                                                seconds.                                \n",
    "  ComputerServicePack     False                                 Search computers with a specific service\n",
    "                                                                pack                                    \n",
    "  Agent                   True        V6W3TH8Y                  Agent to run module on.                 \n",
    "  CheckShareAccess        False                                 Switch. Only display found shares that  \n",
    "                                                                the local user has access to.           \n",
    "  ComputerLDAPFilter      False                                 Specifies an LDAP query string that is  \n",
    "                                                                used to search for computer objects.    \n",
    "\n",
    "(Empire: powershell/situational_awareness/network/powerview/find_localadmin_access) > execute\n",
    "[*] Tasked V6W3TH8Y to run TASK_CMD_JOB\n",
    "[*] Agent V6W3TH8Y tasked with task ID 11\n",
    "[*] Tasked agent V6W3TH8Y to run module powershell/situational_awareness/network/powerview/find_localadmin_access\n",
    "(Empire: powershell/situational_awareness/network/powerview/find_localadmin_access) > Job started: X3U8SY\n",
    "HFDC01.shire.com\n",
    "IT001.shire.com\n",
    "\n",
    "Find-LocalAdminAccess completed!\n",
    "\n",
    "(Empire: powershell/situational_awareness/network/powerview/find_localadmin_access) >\n",
    "```"
   ]
  },
  {
   "cell_type": "markdown",
   "metadata": {},
   "source": [
    "## Explore Mordor Dataset"
   ]
  },
  {
   "cell_type": "markdown",
   "metadata": {},
   "source": [
    "### Initialize Analytics Engine"
   ]
  },
  {
   "cell_type": "code",
   "execution_count": null,
   "metadata": {},
   "outputs": [],
   "source": [
    "from openhunt.mordorutils import *\n",
    "spark = get_spark()"
   ]
  },
  {
   "cell_type": "markdown",
   "metadata": {},
   "source": [
    "### Download & Process Mordor File"
   ]
  },
  {
   "cell_type": "code",
   "execution_count": null,
   "metadata": {},
   "outputs": [],
   "source": [
    "mordor_file = \"https://raw.githubusercontent.com/hunters-forge/mordor/master/datasets/small/windows/discovery/empire_find_local_admin.tar.gz\"\n",
    "registerMordorSQLTable(spark, mordor_file, \"mordorTable\")"
   ]
  },
  {
   "cell_type": "markdown",
   "metadata": {},
   "source": [
    "### Get to know your data"
   ]
  },
  {
   "cell_type": "code",
   "execution_count": null,
   "metadata": {},
   "outputs": [],
   "source": [
    "df = spark.sql(\n",
    "    '''\n",
    "SELECT channel, COUNT(1)\n",
    "FROM mordorTable\n",
    "GROUP BY channel\n",
    "    '''\n",
    ")\n",
    "df.show(10,False)\n",
    "        "
   ]
  }
 ],
 "metadata": {},
 "nbformat": 4,
 "nbformat_minor": 4
}
