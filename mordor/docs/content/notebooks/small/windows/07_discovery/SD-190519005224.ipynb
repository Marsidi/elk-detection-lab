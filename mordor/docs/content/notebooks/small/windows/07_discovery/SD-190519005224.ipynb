{
 "cells": [
  {
   "cell_type": "markdown",
   "metadata": {},
   "source": [
    "# Empire Get Local Sessions"
   ]
  },
  {
   "cell_type": "markdown",
   "metadata": {},
   "source": [
    "## Metadata"
   ]
  },
  {
   "cell_type": "markdown",
   "metadata": {},
   "source": [
    "\n",
    "|                   |    |\n",
    "|:------------------|:---|\n",
    "| id                | SD-190519005224 |\n",
    "| author            | Roberto Rodriguez @Cyb3rWard0g |\n",
    "| creation date     | 19/05/19 |\n",
    "| platform          | Windows |\n",
    "| Mordor Environment| shire |\n",
    "| Simulation Type   | C2 |\n",
    "| Simulation Tool   | Empire |\n",
    "| Simulation Script | https://raw.githubusercontent.com/EmpireProject/Empire/dev/data/module_source/situational_awareness/network/powerview.ps1 |\n",
    "| Mordor Dataset    | https://raw.githubusercontent.com/hunters-forge/mordor/master/datasets/small/windows/discovery/empire_get_session_local.tar.gz |"
   ]
  },
  {
   "cell_type": "markdown",
   "metadata": {},
   "source": [
    "## Dataset Description\n",
    "This dataset represents adversaries executing the NetSessionEnum Win32API call to query the local host for active sessions"
   ]
  },
  {
   "cell_type": "markdown",
   "metadata": {},
   "source": [
    "## Adversary View\n",
    "```\n",
    "(Empire: H3DKB8SA) > usemodule situational_awareness/network/powerview/get_session\n",
    "(Empire: powershell/situational_awareness/network/powerview/get_session) > info\n",
    "\n",
    "              Name: Get-NetSession\n",
    "            Module: powershell/situational_awareness/network/powerview/get_session\n",
    "        NeedsAdmin: False\n",
    "        OpsecSafe: True\n",
    "          Language: powershell\n",
    "MinLanguageVersion: 2\n",
    "        Background: True\n",
    "  OutputExtension: None\n",
    "\n",
    "Authors:\n",
    "  @harmj0y\n",
    "\n",
    "Description:\n",
    "  Execute the NetSessionEnum Win32API call to query a given\n",
    "  host for active sessions on the host. Part of PowerView.\n",
    "\n",
    "Comments:\n",
    "  https://github.com/PowerShellMafia/PowerSploit/blob/dev/Reco\n",
    "  n/\n",
    "\n",
    "Options:\n",
    "\n",
    "  Name         Required    Value                     Description\n",
    "  ----         --------    -------                   -----------\n",
    "  ComputerName False       localhost                 The hostname or IP to query for local   \n",
    "                                                    group users.                            \n",
    "  Agent        True        H3DKB8SA                  Agent to run module on.                 \n",
    "\n",
    "(Empire: powershell/situational_awareness/network/powerview/get_session) > set ComputerName HFDC01\n",
    "(Empire: powershell/situational_awareness/network/powerview/get_session) > execute\n",
    "[*] Tasked H3DKB8SA to run TASK_CMD_JOB\n",
    "[*] Agent H3DKB8SA tasked with task ID 19\n",
    "[*] Tasked agent H3DKB8SA to run module powershell/situational_awareness/network/powerview/get_session\n",
    "(Empire: powershell/situational_awareness/network/powerview/get_session) > Job started: VMY6RB\n",
    "\n",
    "CName           UserName   Time IdleTime ComputerName\n",
    "-----           --------   ---- -------- ------------\n",
    "\\\\172.18.39.106 nmartha       1        1 HFDC01      \n",
    "\\\\172.18.39.106 pgustavo 352718       55 HFDC01      \n",
    "\n",
    "Get-NetSession completed!\n",
    "\n",
    "(Empire: powershell/situational_awareness/network/powerview/get_session) >\n",
    "```"
   ]
  },
  {
   "cell_type": "markdown",
   "metadata": {},
   "source": [
    "## Explore Mordor Dataset"
   ]
  },
  {
   "cell_type": "markdown",
   "metadata": {},
   "source": [
    "### Initialize Analytics Engine"
   ]
  },
  {
   "cell_type": "code",
   "execution_count": null,
   "metadata": {},
   "outputs": [],
   "source": [
    "from openhunt.mordorutils import *\n",
    "spark = get_spark()"
   ]
  },
  {
   "cell_type": "markdown",
   "metadata": {},
   "source": [
    "### Download & Process Mordor File"
   ]
  },
  {
   "cell_type": "code",
   "execution_count": null,
   "metadata": {},
   "outputs": [],
   "source": [
    "mordor_file = \"https://raw.githubusercontent.com/hunters-forge/mordor/master/datasets/small/windows/discovery/empire_get_session_local.tar.gz\"\n",
    "registerMordorSQLTable(spark, mordor_file, \"mordorTable\")"
   ]
  },
  {
   "cell_type": "markdown",
   "metadata": {},
   "source": [
    "### Get to know your data"
   ]
  },
  {
   "cell_type": "code",
   "execution_count": null,
   "metadata": {},
   "outputs": [],
   "source": [
    "df = spark.sql(\n",
    "    '''\n",
    "SELECT channel, COUNT(1)\n",
    "FROM mordorTable\n",
    "GROUP BY channel\n",
    "    '''\n",
    ")\n",
    "df.show(10,False)\n",
    "        "
   ]
  }
 ],
 "metadata": {},
 "nbformat": 4,
 "nbformat_minor": 4
}
